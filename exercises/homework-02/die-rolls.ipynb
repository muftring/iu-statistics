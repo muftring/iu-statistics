{
 "cells": [
  {
   "cell_type": "markdown",
   "metadata": {},
   "source": [
    "# Die Rolls"
   ]
  },
  {
   "cell_type": "code",
   "execution_count": 130,
   "metadata": {},
   "outputs": [],
   "source": [
    "import collections\n",
    "import numpy as np\n",
    "from random import randint\n",
    "import matplotlib.pyplot as plt\n",
    "\n",
    "%matplotlib inline"
   ]
  },
  {
   "cell_type": "code",
   "execution_count": 97,
   "metadata": {},
   "outputs": [],
   "source": [
    "'''\n",
    "increment(d,v)\n",
    "  Increment a counter value in a dict\n",
    "  \n",
    "  Parameters:\n",
    "    d = dict\n",
    "    v = value\n",
    "'''\n",
    "def increment(d,v):\n",
    "    if v in d:\n",
    "        d[v] += 1\n",
    "    else:\n",
    "        d[v] = 1"
   ]
  },
  {
   "cell_type": "code",
   "execution_count": 98,
   "metadata": {},
   "outputs": [],
   "source": [
    "def samplemean(d):\n",
    "    total = 0.0\n",
    "    count = 0\n",
    "    for s in d:\n",
    "        total += s[0]*s[1]\n",
    "        count += s[1]\n",
    "    return total/count"
   ]
  },
  {
   "cell_type": "code",
   "execution_count": 99,
   "metadata": {},
   "outputs": [],
   "source": [
    "rolls = {}"
   ]
  },
  {
   "cell_type": "code",
   "execution_count": 100,
   "metadata": {},
   "outputs": [
    {
     "name": "stdout",
     "output_type": "stream",
     "text": [
      "(1,1) (1,2) (1,3) (1,4) (1,5) (1,6) \n",
      "(2,1) (2,2) (2,3) (2,4) (2,5) (2,6) \n",
      "(3,1) (3,2) (3,3) (3,4) (3,5) (3,6) \n",
      "(4,1) (4,2) (4,3) (4,4) (4,5) (4,6) \n",
      "(5,1) (5,2) (5,3) (5,4) (5,5) (5,6) \n",
      "(6,1) (6,2) (6,3) (6,4) (6,5) (6,6) \n"
     ]
    }
   ],
   "source": [
    "count = 0\n",
    "for i in range(1,6+1,1):\n",
    "    for j in range(1,6+1,1):\n",
    "        count += 1\n",
    "        rolls[count] = (i,j)\n",
    "        print(\"({},{}) \".format(i,j), end='')\n",
    "    print(\"\")"
   ]
  },
  {
   "cell_type": "code",
   "execution_count": 120,
   "metadata": {},
   "outputs": [],
   "source": [
    "def sample(samples = 250):\n",
    "    vals = {}\n",
    "    for n in range(samples):\n",
    "        # randomly select a roll\n",
    "        roll = rolls[randint(1, 36)]\n",
    "        # increment the counter for the sample mean\n",
    "        increment(vals,(roll[0]+roll[1])/2)\n",
    "    return sorted(vals.items())"
   ]
  },
  {
   "cell_type": "code",
   "execution_count": 121,
   "metadata": {},
   "outputs": [],
   "source": [
    "result = sample(250)"
   ]
  },
  {
   "cell_type": "code",
   "execution_count": 122,
   "metadata": {},
   "outputs": [
    {
     "data": {
      "text/plain": [
       "[(1.0, 12),\n",
       " (1.5, 9),\n",
       " (2.0, 19),\n",
       " (2.5, 21),\n",
       " (3.0, 29),\n",
       " (3.5, 49),\n",
       " (4.0, 29),\n",
       " (4.5, 40),\n",
       " (5.0, 20),\n",
       " (5.5, 13),\n",
       " (6.0, 9)]"
      ]
     },
     "execution_count": 122,
     "metadata": {},
     "output_type": "execute_result"
    }
   ],
   "source": [
    "result"
   ]
  },
  {
   "cell_type": "code",
   "execution_count": 123,
   "metadata": {},
   "outputs": [
    {
     "data": {
      "text/plain": [
       "3.584"
      ]
     },
     "execution_count": 123,
     "metadata": {},
     "output_type": "execute_result"
    }
   ],
   "source": [
    "samplemean(result)"
   ]
  },
  {
   "cell_type": "code",
   "execution_count": 192,
   "metadata": {},
   "outputs": [],
   "source": [
    "results = []\n",
    "for i in range(250):\n",
    "    result = sample(15)\n",
    "    results.append(samplemean(result))"
   ]
  },
  {
   "cell_type": "code",
   "execution_count": 193,
   "metadata": {},
   "outputs": [
    {
     "name": "stdout",
     "output_type": "stream",
     "text": [
      "sample mean: 3.500533333333333\n"
     ]
    }
   ],
   "source": [
    "print(\"sample mean: {}\".format(np.mean(sorted(results))))"
   ]
  },
  {
   "cell_type": "code",
   "execution_count": 194,
   "metadata": {},
   "outputs": [
    {
     "data": {
      "text/plain": [
       "(array([ 2.,  4., 17., 35., 55., 72., 37., 17.,  9.,  2.]),\n",
       " array([2.53333333, 2.72333333, 2.91333333, 3.10333333, 3.29333333,\n",
       "        3.48333333, 3.67333333, 3.86333333, 4.05333333, 4.24333333,\n",
       "        4.43333333]),\n",
       " <a list of 10 Patch objects>)"
      ]
     },
     "execution_count": 194,
     "metadata": {},
     "output_type": "execute_result"
    },
    {
     "data": {
      "image/png": "[encoded data removed]",
      "text/plain": [
       "<Figure size 432x288 with 1 Axes>"
      ]
     },
     "metadata": {},
     "output_type": "display_data"
    }
   ],
   "source": [
    "plt.hist(sorted(results))"
   ]
  },
  {
   "cell_type": "code",
   "execution_count": null,
   "metadata": {},
   "outputs": [],
   "source": []
  },
  {
   "cell_type": "markdown",
   "metadata": {},
   "source": [
    "## Simple Execution"
   ]
  },
  {
   "cell_type": "code",
   "execution_count": 229,
   "metadata": {},
   "outputs": [],
   "source": [
    "result = sample(255)"
   ]
  },
  {
   "cell_type": "code",
   "execution_count": 230,
   "metadata": {},
   "outputs": [
    {
     "data": {
      "text/plain": [
       "[(1.0, 10),\n",
       " (1.5, 12),\n",
       " (2.0, 21),\n",
       " (2.5, 28),\n",
       " (3.0, 39),\n",
       " (3.5, 43),\n",
       " (4.0, 30),\n",
       " (4.5, 31),\n",
       " (5.0, 25),\n",
       " (5.5, 13),\n",
       " (6.0, 3)]"
      ]
     },
     "execution_count": 230,
     "metadata": {},
     "output_type": "execute_result"
    }
   ],
   "source": [
    "result"
   ]
  },
  {
   "cell_type": "code",
   "execution_count": 231,
   "metadata": {},
   "outputs": [
    {
     "data": {
      "text/plain": [
       "(array([10., 12., 21., 28., 39., 43., 30., 31., 25., 16.]),\n",
       " array([1. , 1.5, 2. , 2.5, 3. , 3.5, 4. , 4.5, 5. , 5.5, 6. ]),\n",
       " <a list of 10 Patch objects>)"
      ]
     },
     "execution_count": 231,
     "metadata": {},
     "output_type": "execute_result"
    },
    {
     "data": {
      "image/png": "[encoded data removed]",
      "text/plain": [
       "<Figure size 432x288 with 1 Axes>"
      ]
     },
     "metadata": {},
     "output_type": "display_data"
    }
   ],
   "source": [
    "numbers = []\n",
    "for item in result:\n",
    "    value = item[0]\n",
    "    for count in range(item[1]):\n",
    "        numbers.append(value)\n",
    "\n",
    "plt.hist(numbers)"
   ]
  },
  {
   "cell_type": "code",
   "execution_count": 232,
   "metadata": {},
   "outputs": [
    {
     "data": {
      "text/plain": [
       "3.4568627450980394"
      ]
     },
     "execution_count": 232,
     "metadata": {},
     "output_type": "execute_result"
    }
   ],
   "source": [
    "samplemean(result)"
   ]
  },
  {
   "cell_type": "code",
   "execution_count": 234,
   "metadata": {},
   "outputs": [
    {
     "data": {
      "text/plain": [
       "[(1.0, 10),\n",
       " (1.5, 12),\n",
       " (2.0, 21),\n",
       " (2.5, 28),\n",
       " (3.0, 39),\n",
       " (3.5, 43),\n",
       " (4.0, 30),\n",
       " (4.5, 31),\n",
       " (5.0, 25),\n",
       " (5.5, 13),\n",
       " (6.0, 3)]"
      ]
     },
     "execution_count": 234,
     "metadata": {},
     "output_type": "execute_result"
    }
   ],
   "source": [
    "result"
   ]
  },
  {
   "cell_type": "code",
   "execution_count": 243,
   "metadata": {},
   "outputs": [
    {
     "name": "stdout",
     "output_type": "stream",
     "text": [
      "| 1.0 | 0.039 |\n",
      "| 1.5 | 0.047 |\n",
      "| 2.0 | 0.082 |\n",
      "| 2.5 | 0.110 |\n",
      "| 3.0 | 0.153 |\n",
      "| 3.5 | 0.169 |\n",
      "| 4.0 | 0.118 |\n",
      "| 4.5 | 0.122 |\n",
      "| 5.0 | 0.098 |\n",
      "| 5.5 | 0.051 |\n",
      "| 6.0 | 0.012 |\n"
     ]
    }
   ],
   "source": [
    "for item in result:\n",
    "    v = item[0]\n",
    "    c = item[1]\n",
    "    print(\"| {0} | {1:2.3f} |\".format(v, c/255))"
   ]
  },
  {
   "cell_type": "code",
   "execution_count": null,
   "metadata": {},
   "outputs": [],
   "source": []
  },
  {
   "cell_type": "markdown",
   "metadata": {},
   "source": [
    "## Frequency Distribution"
   ]
  },
  {
   "cell_type": "code",
   "execution_count": 6,
   "metadata": {},
   "outputs": [],
   "source": [
    "means = {}"
   ]
  },
  {
   "cell_type": "code",
   "execution_count": 7,
   "metadata": {},
   "outputs": [
    {
     "name": "stdout",
     "output_type": "stream",
     "text": [
      "(1,1) (1,2) (1,3) (1,4) (1,5) (1,6) \n",
      "(2,1) (2,2) (2,3) (2,4) (2,5) (2,6) \n",
      "(3,1) (3,2) (3,3) (3,4) (3,5) (3,6) \n",
      "(4,1) (4,2) (4,3) (4,4) (4,5) (4,6) \n",
      "(5,1) (5,2) (5,3) (5,4) (5,5) (5,6) \n",
      "(6,1) (6,2) (6,3) (6,4) (6,5) (6,6) \n"
     ]
    }
   ],
   "source": [
    "for i in range(1,6+1,1):\n",
    "    for j in range(1,6+1,1):\n",
    "        print(\"({},{}) \".format(i,j), end='')\n",
    "        s = i+j\n",
    "        m = s/2\n",
    "        if m in means:\n",
    "            means[m] += 1\n",
    "        else:\n",
    "            means[m] = 1\n",
    "    print(\"\")"
   ]
  },
  {
   "cell_type": "code",
   "execution_count": 8,
   "metadata": {},
   "outputs": [
    {
     "data": {
      "text/plain": [
       "{1.0: 1,\n",
       " 1.5: 2,\n",
       " 2.0: 3,\n",
       " 2.5: 4,\n",
       " 3.0: 5,\n",
       " 3.5: 6,\n",
       " 4.0: 5,\n",
       " 4.5: 4,\n",
       " 5.0: 3,\n",
       " 5.5: 2,\n",
       " 6.0: 1}"
      ]
     },
     "execution_count": 8,
     "metadata": {},
     "output_type": "execute_result"
    }
   ],
   "source": [
    "means"
   ]
  },
  {
   "cell_type": "code",
   "execution_count": 14,
   "metadata": {},
   "outputs": [
    {
     "name": "stdout",
     "output_type": "stream",
     "text": [
      "1.0\t1\t0.03\n",
      "1.5\t2\t0.06\n",
      "2.0\t3\t0.08\n",
      "2.5\t4\t0.11\n",
      "3.0\t5\t0.14\n",
      "3.5\t6\t0.17\n",
      "4.0\t5\t0.14\n",
      "4.5\t4\t0.11\n",
      "5.0\t3\t0.08\n",
      "5.5\t2\t0.06\n",
      "6.0\t1\t0.03\n"
     ]
    }
   ],
   "source": [
    "for key in means.keys():\n",
    "    print(\"{0:1.1f}\\t{1}\\t{2:2.2f}\".format(key, means[key], means[key]/36))"
   ]
  },
  {
   "cell_type": "code",
   "execution_count": 15,
   "metadata": {},
   "outputs": [
    {
     "name": "stdout",
     "output_type": "stream",
     "text": [
      "| 1.0 | 1 | 0.03 |\n",
      "| 1.5 | 2 | 0.06 |\n",
      "| 2.0 | 3 | 0.08 |\n",
      "| 2.5 | 4 | 0.11 |\n",
      "| 3.0 | 5 | 0.14 |\n",
      "| 3.5 | 6 | 0.17 |\n",
      "| 4.0 | 5 | 0.14 |\n",
      "| 4.5 | 4 | 0.11 |\n",
      "| 5.0 | 3 | 0.08 |\n",
      "| 5.5 | 2 | 0.06 |\n",
      "| 6.0 | 1 | 0.03 |\n"
     ]
    }
   ],
   "source": [
    "for key in means.keys():\n",
    "    print(\"| {0:1.1f} | {1} | {2:2.2f} |\".format(key, means[key], means[key]/36))"
   ]
  },
  {
   "cell_type": "code",
   "execution_count": 17,
   "metadata": {},
   "outputs": [
    {
     "name": "stdout",
     "output_type": "stream",
     "text": [
      "| 1.0 | 0.03 |\n",
      "| 1.5 | 0.06 |\n",
      "| 2.0 | 0.08 |\n",
      "| 2.5 | 0.11 |\n",
      "| 3.0 | 0.14 |\n",
      "| 3.5 | 0.17 |\n",
      "| 4.0 | 0.14 |\n",
      "| 4.5 | 0.11 |\n",
      "| 5.0 | 0.08 |\n",
      "| 5.5 | 0.06 |\n",
      "| 6.0 | 0.03 |\n"
     ]
    }
   ],
   "source": [
    "for key in means.keys():\n",
    "    print(\"| {0:1.1f} | {1:2.2f} |\".format(key, means[key]/36))"
   ]
  },
  {
   "cell_type": "code",
   "execution_count": 133,
   "metadata": {},
   "outputs": [
    {
     "data": {
      "text/plain": [
       "{1.0: 1,\n",
       " 1.5: 2,\n",
       " 2.0: 3,\n",
       " 2.5: 4,\n",
       " 3.0: 5,\n",
       " 3.5: 6,\n",
       " 4.0: 5,\n",
       " 4.5: 4,\n",
       " 5.0: 3,\n",
       " 5.5: 2,\n",
       " 6.0: 1}"
      ]
     },
     "execution_count": 133,
     "metadata": {},
     "output_type": "execute_result"
    }
   ],
   "source": [
    "means"
   ]
  },
  {
   "cell_type": "code",
   "execution_count": 149,
   "metadata": {},
   "outputs": [
    {
     "data": {
      "text/plain": [
       "<BarContainer object of 11 artists>"
      ]
     },
     "execution_count": 149,
     "metadata": {},
     "output_type": "execute_result"
    },
    {
     "data": {
      "image/png": "[encoded data removed]",
      "text/plain": [
       "<Figure size 432x288 with 1 Axes>"
      ]
     },
     "metadata": {},
     "output_type": "display_data"
    }
   ],
   "source": [
    "x = list(means.keys())\n",
    "y = [x/36 for x in list(means.values())]\n",
    "plt.bar(x, y)"
   ]
  },
  {
   "cell_type": "code",
   "execution_count": null,
   "metadata": {},
   "outputs": [],
   "source": []
  }
 ],
 "metadata": {
  "kernelspec": {
   "display_name": "Python 3",
   "language": "python",
   "name": "python3"
  },
  "language_info": {
   "codemirror_mode": {
    "name": "ipython",
    "version": 3
   },
   "file_extension": ".py",
   "mimetype": "text/x-python",
   "name": "python",
   "nbconvert_exporter": "python",
   "pygments_lexer": "ipython3",
   "version": "3.6.5"
  }
 },
 "nbformat": 4,
 "nbformat_minor": 2
}
