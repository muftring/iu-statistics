{
 "cells": [
  {
   "cell_type": "markdown",
   "metadata": {},
   "source": [
    "# Homework 4 calculations"
   ]
  },
  {
   "cell_type": "markdown",
   "metadata": {},
   "source": [
    "[Calculating P value from t statistic (Khan Accademy)](https://www.youtube.com/watch?v=z-HSsVARNnk)\n",
    "\n",
    "[Khan Academpy: Statistics and Probability](https://www.khanacademy.org/math/statistics-probability)"
   ]
  },
  {
   "cell_type": "markdown",
   "metadata": {},
   "source": [
    "## 11.2\n",
    "For recent data in Jacksonville, Florida\n",
    "- $y$ = selling price of home (in dollars)\n",
    "- $x_{1}$ = size of home (in square feet)\n",
    "- $x_{2}$ = lot size (in square feet)\n",
    "\n",
    "the prediction equation is:\n",
    "\n",
    "$$\\hat{y} = -10,536 + 53.8x_{1} + 2.84x_{2}$$"
   ]
  },
  {
   "cell_type": "code",
   "execution_count": 65,
   "metadata": {},
   "outputs": [],
   "source": [
    "alpha = -10536\n",
    "beta1 = 53.8\n",
    "beta2 = 2.84\n",
    "\n",
    "def yhat(x1, x2):\n",
    "    return -10536 + (53.8*x1) + (2.84*x2)"
   ]
  },
  {
   "cell_type": "markdown",
   "metadata": {},
   "source": [
    "**(a)** *A particular home of 1240 square feet on a lot of 18,000 square feet sold for \\$145,000. Find the predicted selling price and the residual, and interpret.*"
   ]
  },
  {
   "cell_type": "code",
   "execution_count": 66,
   "metadata": {},
   "outputs": [],
   "source": [
    "x1 = 1240\n",
    "x2 = 18000"
   ]
  },
  {
   "cell_type": "code",
   "execution_count": 67,
   "metadata": {},
   "outputs": [
    {
     "data": {
      "text/plain": [
       "107296.0"
      ]
     },
     "execution_count": 67,
     "metadata": {},
     "output_type": "execute_result"
    }
   ],
   "source": [
    "yhat(x1, x2)"
   ]
  },
  {
   "cell_type": "code",
   "execution_count": 68,
   "metadata": {},
   "outputs": [
    {
     "data": {
      "text/plain": [
       "37704"
      ]
     },
     "execution_count": 68,
     "metadata": {},
     "output_type": "execute_result"
    }
   ],
   "source": [
    "145000 - 107296"
   ]
  },
  {
   "cell_type": "markdown",
   "metadata": {},
   "source": [
    "**(b)** *For fixed lot size, how much is the house selling price predicted to increase for each square-foot increase in home size? Why?*"
   ]
  },
  {
   "cell_type": "code",
   "execution_count": 47,
   "metadata": {},
   "outputs": [],
   "source": [
    "x2 = 10000"
   ]
  },
  {
   "cell_type": "code",
   "execution_count": 48,
   "metadata": {},
   "outputs": [
    {
     "data": {
      "text/plain": [
       "71664.0"
      ]
     },
     "execution_count": 48,
     "metadata": {},
     "output_type": "execute_result"
    }
   ],
   "source": [
    "yhat(1000, x2)"
   ]
  },
  {
   "cell_type": "code",
   "execution_count": 49,
   "metadata": {},
   "outputs": [
    {
     "data": {
      "text/plain": [
       "71717.79999999999"
      ]
     },
     "execution_count": 49,
     "metadata": {},
     "output_type": "execute_result"
    }
   ],
   "source": [
    "yhat(1001, x2)"
   ]
  },
  {
   "cell_type": "code",
   "execution_count": 50,
   "metadata": {},
   "outputs": [
    {
     "data": {
      "text/plain": [
       "53.80000000000291"
      ]
     },
     "execution_count": 50,
     "metadata": {},
     "output_type": "execute_result"
    }
   ],
   "source": [
    "71717.80 - 71664.00"
   ]
  },
  {
   "cell_type": "markdown",
   "metadata": {},
   "source": [
    "**(c)** *According to this prediction equation, for fixed home size, how much would lot size need to increase to have the same impact as a one square-foot increase in home size?*"
   ]
  },
  {
   "cell_type": "code",
   "execution_count": 51,
   "metadata": {},
   "outputs": [],
   "source": [
    "x1 = 1000\n",
    "x2 = 10000"
   ]
  },
  {
   "cell_type": "code",
   "execution_count": 53,
   "metadata": {},
   "outputs": [
    {
     "data": {
      "text/plain": [
       "71664.0"
      ]
     },
     "execution_count": 53,
     "metadata": {},
     "output_type": "execute_result"
    }
   ],
   "source": [
    "yhat(x1,x2)"
   ]
  },
  {
   "cell_type": "code",
   "execution_count": 54,
   "metadata": {},
   "outputs": [
    {
     "data": {
      "text/plain": [
       "71666.84"
      ]
     },
     "execution_count": 54,
     "metadata": {},
     "output_type": "execute_result"
    }
   ],
   "source": [
    "yhat(x1,x2+1)"
   ]
  },
  {
   "cell_type": "code",
   "execution_count": 55,
   "metadata": {},
   "outputs": [
    {
     "data": {
      "text/plain": [
       "2.84"
      ]
     },
     "execution_count": 55,
     "metadata": {},
     "output_type": "execute_result"
    }
   ],
   "source": [
    "round(71666.84-71664.0,2)"
   ]
  },
  {
   "cell_type": "code",
   "execution_count": 56,
   "metadata": {},
   "outputs": [
    {
     "data": {
      "text/plain": [
       "18.943661971830984"
      ]
     },
     "execution_count": 56,
     "metadata": {},
     "output_type": "execute_result"
    }
   ],
   "source": [
    "53.8/2.84"
   ]
  },
  {
   "cell_type": "markdown",
   "metadata": {},
   "source": [
    "validate"
   ]
  },
  {
   "cell_type": "code",
   "execution_count": 61,
   "metadata": {},
   "outputs": [
    {
     "data": {
      "text/plain": [
       "71664.0"
      ]
     },
     "execution_count": 61,
     "metadata": {},
     "output_type": "execute_result"
    }
   ],
   "source": [
    "# baseline\n",
    "yhat(x1,x2)"
   ]
  },
  {
   "cell_type": "code",
   "execution_count": 62,
   "metadata": {},
   "outputs": [
    {
     "data": {
      "text/plain": [
       "71717.79999999999"
      ]
     },
     "execution_count": 62,
     "metadata": {},
     "output_type": "execute_result"
    }
   ],
   "source": [
    "# increase home size by one\n",
    "yhat(x1+1,x2)"
   ]
  },
  {
   "cell_type": "code",
   "execution_count": 64,
   "metadata": {},
   "outputs": [
    {
     "data": {
      "text/plain": [
       "71771.76"
      ]
     },
     "execution_count": 64,
     "metadata": {},
     "output_type": "execute_result"
    }
   ],
   "source": [
    "# now increase lot size by 18.9\n",
    "yhat(x1+1,x2+19)"
   ]
  },
  {
   "cell_type": "markdown",
   "metadata": {},
   "source": [
    "## 11.17"
   ]
  },
  {
   "cell_type": "markdown",
   "metadata": {},
   "source": [
    "|            | Sum of<br>Squares | DF     | Mean<br>Square | F     | Sig   |\n",
    "| ---------- | ----------------: | -----: | -------------: | ----: | ----: |\n",
    "| Regression |  813.3            | 5      | ? | ? | ? |\n",
    "| Residual   | 2940.0            | 60     | ? |   |   |\n",
    "| Total      | 3753.3            | 65     |   |   |   |"
   ]
  },
  {
   "cell_type": "code",
   "execution_count": 69,
   "metadata": {},
   "outputs": [],
   "source": [
    "def t(b, se):\n",
    "    return b/se"
   ]
  },
  {
   "cell_type": "code",
   "execution_count": 70,
   "metadata": {},
   "outputs": [],
   "source": [
    "values = [\n",
    "    (0.1000, 0.0450),\n",
    "    ( -0.1500, 0.0750),\n",
    "    (0.1000, 0.2000),\n",
    "    (-0.0400, 0.0500),\n",
    "    (0.1200, 0.0500)\n",
    "]"
   ]
  },
  {
   "cell_type": "code",
   "execution_count": 91,
   "metadata": {},
   "outputs": [
    {
     "name": "stdout",
     "output_type": "stream",
     "text": [
      "  0.1000   0.0450   2.2222\n",
      " -0.1500   0.0750  -2.0000\n",
      "  0.1000   0.2000   0.5000\n",
      " -0.0400   0.0500  -0.8000\n",
      "  0.1200   0.0500   2.4000\n"
     ]
    }
   ],
   "source": [
    "for b,se in values:\n",
    "    print(\"{0:8.4f} {1:8.4f} {2:8.4f}\".format(b,se,b/se))"
   ]
  },
  {
   "cell_type": "markdown",
   "metadata": {},
   "source": [
    "> Mean Square – These are the Mean Squares, the Sum of Squares divided by their respective DF. "
   ]
  },
  {
   "cell_type": "markdown",
   "metadata": {},
   "source": [
    "> F and Sig. – This is the F-statistic the p-value associated with it.  \n",
    "\n",
    "The F-statistic is the Mean Square (Regression) divided by the Mean Square (Residual)\n",
    "\n",
    "The p-value is compared to some alpha level in testing the null hypothesis that all of the model coefficients are 0."
   ]
  },
  {
   "cell_type": "markdown",
   "metadata": {},
   "source": [
    "$R^{2} = \\frac{TSS-SSE}{TSS}$\n",
    "\n",
    "in SPSS output, TSS = `Total`, SSE = `Residual`"
   ]
  },
  {
   "cell_type": "code",
   "execution_count": 92,
   "metadata": {},
   "outputs": [],
   "source": [
    "def r2(tss, sse):\n",
    "    return (tss-sse)/tss"
   ]
  },
  {
   "cell_type": "code",
   "execution_count": 93,
   "metadata": {},
   "outputs": [
    {
     "data": {
      "text/plain": [
       "0.21668931340420433"
      ]
     },
     "execution_count": 93,
     "metadata": {},
     "output_type": "execute_result"
    }
   ],
   "source": [
    "r2(3753.3, 2940.0)"
   ]
  },
  {
   "cell_type": "code",
   "execution_count": 94,
   "metadata": {},
   "outputs": [
    {
     "data": {
      "text/plain": [
       "0.2167"
      ]
     },
     "execution_count": 94,
     "metadata": {},
     "output_type": "execute_result"
    }
   ],
   "source": [
    "round(r2(3753.3, 2940.0), 4)"
   ]
  },
  {
   "cell_type": "markdown",
   "metadata": {},
   "source": [
    "> Std. Error of the Estimate – This is also referred to as the root mean squared error (Root MSE).\n",
    "\n",
    "It is the standard deviation of the error term and **the square root of the Mean Square for the Residuals in the ANOVA table**."
   ]
  },
  {
   "cell_type": "code",
   "execution_count": 95,
   "metadata": {},
   "outputs": [],
   "source": [
    "import numpy as np"
   ]
  },
  {
   "cell_type": "code",
   "execution_count": 96,
   "metadata": {},
   "outputs": [
    {
     "data": {
      "text/plain": [
       "7.0"
      ]
     },
     "execution_count": 96,
     "metadata": {},
     "output_type": "execute_result"
    }
   ],
   "source": [
    "np.sqrt(49)"
   ]
  },
  {
   "cell_type": "markdown",
   "metadata": {},
   "source": [
    "# Analysis in R"
   ]
  },
  {
   "cell_type": "markdown",
   "metadata": {},
   "source": [
    "## How to count the number of NA values in each column of a DataFrame?\n",
    "\n",
    "if you are looking for NA counts for each column in a dataframe `x` then:\n",
    "\n",
    "```\n",
    "na_count <-sapply(x, function(y) sum(length(which(is.na(y)))))\n",
    "```\n",
    "\n",
    "should give you a list with the counts for each column.\n",
    "\n",
    "```\n",
    "na_count <- data.frame(na_count)\n",
    "```\n",
    "Should output the data nicely in a dataframe like:\n",
    "\n",
    "```\n",
    "----------------------\n",
    "| row.names | na_count\n",
    "------------------------\n",
    "| column_1  | count\n",
    "```\n",
    "\n",
    "[Reference (Stack Overflow)](https://stackoverflow.com/a/31145812)"
   ]
  },
  {
   "cell_type": "markdown",
   "metadata": {},
   "source": [
    "## Recoding Values\n",
    "\n",
    "how to apply criteria so that only data in specific rows is replaced. Note that if you want to replace NA with some value you cannot use ==NA. You must use is.na().\n",
    "\n",
    "```\n",
    "# Or replace only missing data\n",
    "# Note that ==NA does not work!\n",
    "SchoolData$Grade[is.na(SchoolData$Grade)] <- \"Missing Grade\"\n",
    "```\n",
    "\n",
    "[Reference](http://rprogramming.net/recode-data-in-r/)"
   ]
  },
  {
   "cell_type": "markdown",
   "metadata": {},
   "source": [
    "remove rows with missing values\n",
    "\n",
    "[Reference (Stack Overflow)](https://stackoverflow.com/questions/4862178/remove-rows-with-nas-missing-values-in-data-frame)"
   ]
  },
  {
   "cell_type": "code",
   "execution_count": null,
   "metadata": {},
   "outputs": [],
   "source": []
  }
 ],
 "metadata": {
  "kernelspec": {
   "display_name": "Python 3",
   "language": "python",
   "name": "python3"
  },
  "language_info": {
   "codemirror_mode": {
    "name": "ipython",
    "version": 3
   },
   "file_extension": ".py",
   "mimetype": "text/x-python",
   "name": "python",
   "nbconvert_exporter": "python",
   "pygments_lexer": "ipython3",
   "version": "3.6.5"
  }
 },
 "nbformat": 4,
 "nbformat_minor": 2
}
