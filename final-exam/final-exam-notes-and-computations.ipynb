{
 "cells": [
  {
   "cell_type": "markdown",
   "metadata": {},
   "source": [
    "# Final Exam: Notes and Computations"
   ]
  },
  {
   "cell_type": "markdown",
   "metadata": {},
   "source": [
    "## 9. Correlation Matrices"
   ]
  },
  {
   "cell_type": "markdown",
   "metadata": {},
   "source": [
    "A correlation matrix is an easy way to see bivariate correlation between multiple variables.\n",
    "\n",
    "In R, execute `cor` on the entire data frame:\n",
    "\n",
    "```\n",
    "cor(mtcars, use=\"complete.obs\")\n",
    "round(cor(mtcars, use=\"complete.obs\"),2)\n",
    "```\n",
    "\n",
    "To interpret, look at the intersection of rows and columns. This tells you the correlation betweeen two variables.\n",
    "\n",
    "```\n",
    "# correlation\n",
    "cor(mtcars$mpg, mtcars$hp)\n",
    "# p-value: statistical significance\n",
    "cor.test(mtcars$mpg, mtcars$hp)\n",
    "\n",
    "# correlation matrix\n",
    "cor(mtcars, use=\"complete.obs\")\n",
    "round(cor(mtcars, use=\"complete.obs\"),2)\n",
    "\n",
    "# look at specific variables (subsetting)\n",
    "mtcars2 <- with(mtcars, data.frame(hp, wt, mpg, am, gear))\n",
    "cor(mtcars2)\n",
    "\n",
    "# fancier: correlation matrix with p-value matrix\n",
    "library(Hmisc)\n",
    "rcorr(as.matrix(mtcars))\n",
    "rcorr(as.matrix(mtcars2))\n",
    "\n",
    "# plot\n",
    "library(corrplot)\n",
    "mtcars_corr <- round(cor(mtcars, use=\"complete.obs\"),2)\n",
    "corrplot(mtcars_corr, method=\"number\")\n",
    "corrplot(mtcars_corr, method=\"circle\")\n",
    "```"
   ]
  },
  {
   "cell_type": "markdown",
   "metadata": {},
   "source": [
    "## (??) Estimation and Interpretation (multiple regression)\n",
    "\n",
    "`typeprof` is a dummy variable, has value 0 or 1; tells us the diff in dep var when prof = 1 as compared to when prof = 0\n",
    "\n",
    "it is the diff betw prof occupation and the omitted category which is blue-collar, it is not the diff between prof and white-collar\n",
    "\n",
    "we can say prof occ hav 16.66 higer level of `prestige` than blue-collar (comparing to the referrent category)\n",
    "\n",
    "when doing multiple regression, it is not just the diff between these two groups (prof and white-collar), it is the diff between these two groups controlling for the other independent variables in the model\n",
    "\n",
    "say (in reference to the coefficient for typeprof):\n",
    "\"the predicted diff in prestige betw professional and blue-collar (the omitted category) is 16.66 controlling for education and income\"\n",
    "\n",
    "for dummy variables, always keep in mind the referrent category"
   ]
  },
  {
   "cell_type": "markdown",
   "metadata": {
    "collapsed": true
   },
   "source": [
    "## 10. Multivariate Regression"
   ]
  },
  {
   "cell_type": "code",
   "execution_count": 1,
   "metadata": {},
   "outputs": [],
   "source": [
    "a = -19.672\n",
    "b1 = -0.000629\n",
    "b2 = 1.7399\n",
    "b3 = 0.40994\n",
    "b4 = 2.0357\n",
    "b5 = -0.0344\n",
    "\n",
    "def haty(x1, x2, x3, x4, x5):\n",
    "    return a + (b1*x1) + (b2*x2) + (b3*x3) + (b4*x4) + (b5*x5)"
   ]
  },
  {
   "cell_type": "code",
   "execution_count": 2,
   "metadata": {},
   "outputs": [],
   "source": [
    "outlets = 1739\n",
    "cars = 9.27\n",
    "income  = 85.4\n",
    "age  = 3.5\n",
    "bosses  = 9.0"
   ]
  },
  {
   "cell_type": "code",
   "execution_count": 3,
   "metadata": {},
   "outputs": [
    {
     "data": {
      "text/plain": [
       "37.187268"
      ]
     },
     "execution_count": 3,
     "metadata": {},
     "output_type": "execute_result"
    }
   ],
   "source": [
    "haty(outlets, cars, income, age, bosses)"
   ]
  },
  {
   "cell_type": "markdown",
   "metadata": {},
   "source": [
    "$$F = \\frac{R^{2}/k}{(1 - R^{2})/[n - (k + 1)]}$$"
   ]
  },
  {
   "cell_type": "code",
   "execution_count": 6,
   "metadata": {},
   "outputs": [],
   "source": [
    "def fscore(r2, k, n):\n",
    "    return (r2/k)/((1-r2)*(n-(k+1)))"
   ]
  },
  {
   "cell_type": "code",
   "execution_count": 7,
   "metadata": {},
   "outputs": [
    {
     "data": {
      "text/plain": [
       "8.283333333333326"
      ]
     },
     "execution_count": 7,
     "metadata": {},
     "output_type": "execute_result"
    }
   ],
   "source": [
    "fscore(0.994, 5, 10)"
   ]
  },
  {
   "cell_type": "code",
   "execution_count": null,
   "metadata": {},
   "outputs": [],
   "source": []
  }
 ],
 "metadata": {
  "kernelspec": {
   "display_name": "Python 3",
   "language": "python",
   "name": "python3"
  },
  "language_info": {
   "codemirror_mode": {
    "name": "ipython",
    "version": 3
   },
   "file_extension": ".py",
   "mimetype": "text/x-python",
   "name": "python",
   "nbconvert_exporter": "python",
   "pygments_lexer": "ipython3",
   "version": "3.6.5"
  },
  "toc": {
   "base_numbering": 1,
   "nav_menu": {},
   "number_sections": false,
   "sideBar": false,
   "skip_h1_title": false,
   "title_cell": "Table of Contents",
   "title_sidebar": "Contents",
   "toc_cell": false,
   "toc_position": {},
   "toc_section_display": false,
   "toc_window_display": false
  }
 },
 "nbformat": 4,
 "nbformat_minor": 2
}
