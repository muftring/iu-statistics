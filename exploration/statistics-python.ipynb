{
 "cells": [
  {
   "cell_type": "markdown",
   "metadata": {},
   "source": [
    "# Statistics in Python"
   ]
  },
  {
   "cell_type": "code",
   "execution_count": 4,
   "metadata": {},
   "outputs": [],
   "source": [
    "import numpy as np"
   ]
  },
  {
   "cell_type": "code",
   "execution_count": 20,
   "metadata": {},
   "outputs": [],
   "source": [
    "data0 = [0.0, 1.0, 2.0, 2.0, 3.0, 3.0, 3.0, 3.0, 3.0, 4.0, 4.0, 5.0, 6.0]\n",
    "data1 = [0.0, 1.0, 2.0, 3.0, 4.0, 5.0, 6.0, 7.0, 8.0, 9.0]\n",
    "data2 = [1.0, 2.0, 3.0]"
   ]
  },
  {
   "cell_type": "code",
   "execution_count": 45,
   "metadata": {},
   "outputs": [],
   "source": [
    "def summary(data, ddof=1):\n",
    "    print(\"length: {}\\nsum: {}\\nmin: {}\\nmax: {}\\nmean: {}\\nmedian: {}\\nmode: {}\\nrange: {}\\nvariance: {}\\nstddev: {}\".format(\n",
    "        len(data),\n",
    "        np.sum(data),\n",
    "        np.min(data),\n",
    "        np.max(data),\n",
    "        np.mean(data),\n",
    "        np.median(data),\n",
    "        max(set(data), key=data.count),\n",
    "        np.max(data)-np.min(data),\n",
    "        np.var(data, ddof=ddof),\n",
    "        np.std(data, ddof=ddof)))"
   ]
  },
  {
   "cell_type": "code",
   "execution_count": 46,
   "metadata": {},
   "outputs": [
    {
     "name": "stdout",
     "output_type": "stream",
     "text": [
      "length: 13\n",
      "sum: 39.0\n",
      "min: 0.0\n",
      "max: 6.0\n",
      "mean: 3.0\n",
      "median: 3.0\n",
      "mode: 3.0\n",
      "range: 6.0\n",
      "variance: 2.5\n",
      "stddev: 1.5811388300841898\n"
     ]
    }
   ],
   "source": [
    "summary(data0)"
   ]
  },
  {
   "cell_type": "code",
   "execution_count": 47,
   "metadata": {},
   "outputs": [
    {
     "name": "stdout",
     "output_type": "stream",
     "text": [
      "length: 10\n",
      "sum: 45.0\n",
      "min: 0.0\n",
      "max: 9.0\n",
      "mean: 4.5\n",
      "median: 4.5\n",
      "mode: 0.0\n",
      "range: 9.0\n",
      "variance: 9.166666666666666\n",
      "stddev: 3.0276503540974917\n"
     ]
    }
   ],
   "source": [
    "summary(data1)"
   ]
  },
  {
   "cell_type": "code",
   "execution_count": 48,
   "metadata": {},
   "outputs": [
    {
     "name": "stdout",
     "output_type": "stream",
     "text": [
      "length: 3\n",
      "sum: 6.0\n",
      "min: 1.0\n",
      "max: 3.0\n",
      "mean: 2.0\n",
      "median: 2.0\n",
      "mode: 1.0\n",
      "range: 2.0\n",
      "variance: 1.0\n",
      "stddev: 1.0\n"
     ]
    }
   ],
   "source": [
    "summary(data2)"
   ]
  },
  {
   "cell_type": "code",
   "execution_count": null,
   "metadata": {},
   "outputs": [],
   "source": []
  }
 ],
 "metadata": {
  "kernelspec": {
   "display_name": "Python 3",
   "language": "python",
   "name": "python3"
  },
  "language_info": {
   "codemirror_mode": {
    "name": "ipython",
    "version": 3
   },
   "file_extension": ".py",
   "mimetype": "text/x-python",
   "name": "python",
   "nbconvert_exporter": "python",
   "pygments_lexer": "ipython3",
   "version": "3.6.5"
  }
 },
 "nbformat": 4,
 "nbformat_minor": 2
}
