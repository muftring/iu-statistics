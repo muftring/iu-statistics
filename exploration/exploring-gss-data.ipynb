{
 "cells": [
  {
   "cell_type": "markdown",
   "metadata": {},
   "source": [
    "# Exploring GSS data"
   ]
  },
  {
   "cell_type": "code",
   "execution_count": 1,
   "metadata": {},
   "outputs": [],
   "source": [
    "library(readr)"
   ]
  },
  {
   "cell_type": "code",
   "execution_count": 2,
   "metadata": {},
   "outputs": [
    {
     "name": "stderr",
     "output_type": "stream",
     "text": [
      "Parsed with column specification:\n",
      "cols(\n",
      "  .default = col_integer(),\n",
      "  SEI = col_double()\n",
      ")\n",
      "See spec(...) for full column specifications.\n"
     ]
    }
   ],
   "source": [
    "gss <- read_csv(\"~/git/iu-statistics/data-sets/General Social Survey 2008.csv\")"
   ]
  },
  {
   "cell_type": "code",
   "execution_count": 3,
   "metadata": {},
   "outputs": [
    {
     "data": {
      "text/html": [
       "<table>\n",
       "<thead><tr><th scope=col>RESPONDENT</th><th scope=col>MARITAL</th><th scope=col>AGE</th><th scope=col>EDUC</th><th scope=col>SEX</th><th scope=col>SIBS</th><th scope=col>CHILDS</th><th scope=col>HOMPOP</th><th scope=col>PRESTG80</th><th scope=col>INCOME06</th><th scope=col>⋯</th><th scope=col>TEENSEX</th><th scope=col>XMARSEX</th><th scope=col>PORNLAW</th><th scope=col>XMOVIE</th><th scope=col>PARTNERS</th><th scope=col>SEXFREQ</th><th scope=col>SEXORNT</th><th scope=col>FECHLD</th><th scope=col>FEPRESCH</th><th scope=col>FEFAM</th></tr></thead>\n",
       "<tbody>\n",
       "\t<tr><td>1 </td><td>2 </td><td>49</td><td>12</td><td>1 </td><td>0 </td><td>5 </td><td>2 </td><td>22</td><td> 7</td><td>⋯ </td><td>1 </td><td>0 </td><td>2 </td><td>1 </td><td> 0</td><td> 0</td><td>3 </td><td>2 </td><td>3 </td><td>2 </td></tr>\n",
       "\t<tr><td>2 </td><td>1 </td><td>48</td><td>20</td><td>1 </td><td>1 </td><td>2 </td><td>1 </td><td>65</td><td>23</td><td>⋯ </td><td>3 </td><td>3 </td><td>0 </td><td>7 </td><td> 1</td><td> 5</td><td>3 </td><td>2 </td><td>3 </td><td>3 </td></tr>\n",
       "\t<tr><td>3 </td><td>1 </td><td>47</td><td>13</td><td>1 </td><td>1 </td><td>1 </td><td>2 </td><td>50</td><td>18</td><td>⋯ </td><td>1 </td><td>0 </td><td>2 </td><td>0 </td><td> 1</td><td> 6</td><td>3 </td><td>2 </td><td>3 </td><td>3 </td></tr>\n",
       "\t<tr><td>4 </td><td>3 </td><td>32</td><td>10</td><td>1 </td><td>2 </td><td>1 </td><td>3 </td><td>36</td><td>17</td><td>⋯ </td><td>0 </td><td>1 </td><td>2 </td><td>1 </td><td> 2</td><td> 5</td><td>3 </td><td>0 </td><td>0 </td><td>0 </td></tr>\n",
       "\t<tr><td>5 </td><td>4 </td><td>37</td><td>12</td><td>2 </td><td>2 </td><td>2 </td><td>3 </td><td>42</td><td>16</td><td>⋯ </td><td>1 </td><td>1 </td><td>0 </td><td>7 </td><td> 3</td><td> 3</td><td>3 </td><td>2 </td><td>2 </td><td>3 </td></tr>\n",
       "\t<tr><td>6 </td><td>1 </td><td>72</td><td>16</td><td>1 </td><td>3 </td><td>2 </td><td>2 </td><td>71</td><td>98</td><td>⋯ </td><td>3 </td><td>0 </td><td>2 </td><td>1 </td><td>-1</td><td>-1</td><td>0 </td><td>1 </td><td>2 </td><td>3 </td></tr>\n",
       "</tbody>\n",
       "</table>\n"
      ],
      "text/latex": [
       "\\begin{tabular}{r|lllllllllllllllllllllllllllllllllllllllllllllllllllllllllllllllllllllll}\n",
       " RESPONDENT & MARITAL & AGE & EDUC & SEX & SIBS & CHILDS & HOMPOP & PRESTG80 & INCOME06 & ⋯ & TEENSEX & XMARSEX & PORNLAW & XMOVIE & PARTNERS & SEXFREQ & SEXORNT & FECHLD & FEPRESCH & FEFAM\\\\\n",
       "\\hline\n",
       "\t 1  & 2  & 49 & 12 & 1  & 0  & 5  & 2  & 22 &  7 & ⋯  & 1  & 0  & 2  & 1  &  0 &  0 & 3  & 2  & 3  & 2 \\\\\n",
       "\t 2  & 1  & 48 & 20 & 1  & 1  & 2  & 1  & 65 & 23 & ⋯  & 3  & 3  & 0  & 7  &  1 &  5 & 3  & 2  & 3  & 3 \\\\\n",
       "\t 3  & 1  & 47 & 13 & 1  & 1  & 1  & 2  & 50 & 18 & ⋯  & 1  & 0  & 2  & 0  &  1 &  6 & 3  & 2  & 3  & 3 \\\\\n",
       "\t 4  & 3  & 32 & 10 & 1  & 2  & 1  & 3  & 36 & 17 & ⋯  & 0  & 1  & 2  & 1  &  2 &  5 & 3  & 0  & 0  & 0 \\\\\n",
       "\t 5  & 4  & 37 & 12 & 2  & 2  & 2  & 3  & 42 & 16 & ⋯  & 1  & 1  & 0  & 7  &  3 &  3 & 3  & 2  & 2  & 3 \\\\\n",
       "\t 6  & 1  & 72 & 16 & 1  & 3  & 2  & 2  & 71 & 98 & ⋯  & 3  & 0  & 2  & 1  & -1 & -1 & 0  & 1  & 2  & 3 \\\\\n",
       "\\end{tabular}\n"
      ],
      "text/markdown": [
       "\n",
       "RESPONDENT | MARITAL | AGE | EDUC | SEX | SIBS | CHILDS | HOMPOP | PRESTG80 | INCOME06 | ⋯ | TEENSEX | XMARSEX | PORNLAW | XMOVIE | PARTNERS | SEXFREQ | SEXORNT | FECHLD | FEPRESCH | FEFAM | \n",
       "|---|---|---|---|---|---|\n",
       "| 1  | 2  | 49 | 12 | 1  | 0  | 5  | 2  | 22 |  7 | ⋯  | 1  | 0  | 2  | 1  |  0 |  0 | 3  | 2  | 3  | 2  | \n",
       "| 2  | 1  | 48 | 20 | 1  | 1  | 2  | 1  | 65 | 23 | ⋯  | 3  | 3  | 0  | 7  |  1 |  5 | 3  | 2  | 3  | 3  | \n",
       "| 3  | 1  | 47 | 13 | 1  | 1  | 1  | 2  | 50 | 18 | ⋯  | 1  | 0  | 2  | 0  |  1 |  6 | 3  | 2  | 3  | 3  | \n",
       "| 4  | 3  | 32 | 10 | 1  | 2  | 1  | 3  | 36 | 17 | ⋯  | 0  | 1  | 2  | 1  |  2 |  5 | 3  | 0  | 0  | 0  | \n",
       "| 5  | 4  | 37 | 12 | 2  | 2  | 2  | 3  | 42 | 16 | ⋯  | 1  | 1  | 0  | 7  |  3 |  3 | 3  | 2  | 2  | 3  | \n",
       "| 6  | 1  | 72 | 16 | 1  | 3  | 2  | 2  | 71 | 98 | ⋯  | 3  | 0  | 2  | 1  | -1 | -1 | 0  | 1  | 2  | 3  | \n",
       "\n",
       "\n"
      ],
      "text/plain": [
       "  RESPONDENT MARITAL AGE EDUC SEX SIBS CHILDS HOMPOP PRESTG80 INCOME06 ⋯\n",
       "1 1          2       49  12   1   0    5      2      22        7       ⋯\n",
       "2 2          1       48  20   1   1    2      1      65       23       ⋯\n",
       "3 3          1       47  13   1   1    1      2      50       18       ⋯\n",
       "4 4          3       32  10   1   2    1      3      36       17       ⋯\n",
       "5 5          4       37  12   2   2    2      3      42       16       ⋯\n",
       "6 6          1       72  16   1   3    2      2      71       98       ⋯\n",
       "  TEENSEX XMARSEX PORNLAW XMOVIE PARTNERS SEXFREQ SEXORNT FECHLD FEPRESCH FEFAM\n",
       "1 1       0       2       1       0        0      3       2      3        2    \n",
       "2 3       3       0       7       1        5      3       2      3        3    \n",
       "3 1       0       2       0       1        6      3       2      3        3    \n",
       "4 0       1       2       1       2        5      3       0      0        0    \n",
       "5 1       1       0       7       3        3      3       2      2        3    \n",
       "6 3       0       2       1      -1       -1      0       1      2        3    "
      ]
     },
     "metadata": {},
     "output_type": "display_data"
    }
   ],
   "source": [
    "head(gss)"
   ]
  },
  {
   "cell_type": "code",
   "execution_count": 4,
   "metadata": {},
   "outputs": [
    {
     "data": {
      "text/plain": [
       "   RESPONDENT        MARITAL           AGE             EDUC      \n",
       " Min.   :   1.0   Min.   :1.000   Min.   :18.00   Min.   : 0.00  \n",
       " 1st Qu.: 506.5   1st Qu.:1.000   1st Qu.:34.00   1st Qu.:12.00  \n",
       " Median :1012.0   Median :2.000   Median :47.00   Median :13.00  \n",
       " Mean   :1012.0   Mean   :2.532   Mean   :47.96   Mean   :13.64  \n",
       " 3rd Qu.:1517.5   3rd Qu.:5.000   3rd Qu.:60.00   3rd Qu.:16.00  \n",
       " Max.   :2023.0   Max.   :9.000   Max.   :99.00   Max.   :99.00  \n",
       "      SEX             SIBS            CHILDS         HOMPOP      \n",
       " Min.   :1.000   Min.   : 0.000   Min.   :0.00   Min.   : 1.000  \n",
       " 1st Qu.:1.000   1st Qu.: 2.000   1st Qu.:0.00   1st Qu.: 1.000  \n",
       " Median :2.000   Median : 3.000   Median :2.00   Median : 2.000  \n",
       " Mean   :1.541   Mean   : 3.755   Mean   :1.95   Mean   : 2.524  \n",
       " 3rd Qu.:2.000   3rd Qu.: 5.000   3rd Qu.:3.00   3rd Qu.: 3.000  \n",
       " Max.   :2.000   Max.   :99.000   Max.   :9.00   Max.   :11.000  \n",
       "    PRESTG80        INCOME06        RINCOM06         SATFIN     \n",
       " Min.   : 0.00   Min.   : 1.00   Min.   : 0.00   Min.   :1.000  \n",
       " 1st Qu.:31.00   1st Qu.:14.00   1st Qu.: 0.00   1st Qu.:1.000  \n",
       " Median :42.00   Median :19.00   Median :11.00   Median :2.000  \n",
       " Mean   :41.57   Mean   :26.84   Mean   :15.48   Mean   :2.047  \n",
       " 3rd Qu.:51.00   3rd Qu.:22.00   3rd Qu.:18.00   3rd Qu.:3.000  \n",
       " Max.   :86.00   Max.   :98.00   Max.   :99.00   Max.   :9.000  \n",
       "      HRS1          DWELOWN            SEI            HAPMAR      \n",
       " Min.   :-1.00   Min.   :0.0000   Min.   :-1.00   Min.   :0.0000  \n",
       " 1st Qu.:-1.00   1st Qu.:0.0000   1st Qu.:31.20   1st Qu.:0.0000  \n",
       " Median :30.00   Median :1.0000   Median :38.50   Median :0.0000  \n",
       " Mean   :25.21   Mean   :0.8922   Mean   :46.01   Mean   :0.7133  \n",
       " 3rd Qu.:41.50   3rd Qu.:1.0000   3rd Qu.:63.50   3rd Qu.:1.0000  \n",
       " Max.   :99.00   Max.   :9.0000   Max.   :97.20   Max.   :9.0000  \n",
       "    EVSTRAY         SPANKING         ABANY          ABDEFCTW    \n",
       " Min.   :0.000   Min.   :0.000   Min.   :0.000   Min.   :0.000  \n",
       " 1st Qu.:0.000   1st Qu.:0.000   1st Qu.:0.000   1st Qu.:0.000  \n",
       " Median :0.000   Median :1.000   Median :1.000   Median :2.000  \n",
       " Mean   :2.776   Mean   :1.424   Mean   :2.813   Mean   :2.151  \n",
       " 3rd Qu.:7.000   3rd Qu.:2.000   3rd Qu.:7.000   3rd Qu.:4.000  \n",
       " Max.   :9.000   Max.   :9.000   Max.   :9.000   Max.   :9.000  \n",
       "    MARHOMO          HAPPY           HEALTH           LIFE      \n",
       " Min.   :0.000   Min.   :1.000   Min.   :0.000   Min.   :0.000  \n",
       " 1st Qu.:0.000   1st Qu.:1.000   1st Qu.:0.000   1st Qu.:0.000  \n",
       " Median :2.000   Median :2.000   Median :1.000   Median :1.000  \n",
       " Mean   :2.197   Mean   :1.887   Mean   :1.382   Mean   :1.093  \n",
       " 3rd Qu.:4.000   3rd Qu.:2.000   3rd Qu.:2.000   3rd Qu.:2.000  \n",
       " Max.   :9.000   Max.   :9.000   Max.   :8.000   Max.   :9.000  \n",
       "    LETDIE1          OWNGUN          NEWS          TVHOURS      \n",
       " Min.   :0.000   Min.   :0.00   Min.   :0.000   Min.   :-1.000  \n",
       " 1st Qu.:1.000   1st Qu.:0.00   1st Qu.:0.000   1st Qu.:-1.000  \n",
       " Median :7.000   Median :1.00   Median :1.000   Median : 1.000  \n",
       " Mean   :5.083   Mean   :2.63   Mean   :1.684   Mean   : 1.851  \n",
       " 3rd Qu.:7.000   3rd Qu.:7.00   3rd Qu.:3.000   3rd Qu.: 3.000  \n",
       " Max.   :9.000   Max.   :9.00   Max.   :5.000   Max.   :98.000  \n",
       "      FEAR          PARTYID         POLVIEWS        NATENVIR     \n",
       " Min.   :0.000   Min.   :0.000   Min.   :1.000   Min.   :0.0000  \n",
       " 1st Qu.:0.000   1st Qu.:1.000   1st Qu.:3.000   1st Qu.:0.0000  \n",
       " Median :1.000   Median :3.000   Median :4.000   Median :0.0000  \n",
       " Mean   :2.558   Mean   :2.758   Mean   :4.292   Mean   :0.7899  \n",
       " 3rd Qu.:7.000   3rd Qu.:5.000   3rd Qu.:5.000   3rd Qu.:1.0000  \n",
       " Max.   :8.000   Max.   :9.000   Max.   :9.000   Max.   :8.0000  \n",
       "    NATHEAL          NATCRIME         NATEDUC          NATARMS     \n",
       " Min.   :0.0000   Min.   :0.0000   Min.   :0.0000   Min.   :0.000  \n",
       " 1st Qu.:0.0000   1st Qu.:0.0000   1st Qu.:0.0000   1st Qu.:0.000  \n",
       " Median :0.0000   Median :0.0000   Median :0.0000   Median :0.000  \n",
       " Mean   :0.7375   Mean   :0.8448   Mean   :0.7029   Mean   :1.203  \n",
       " 3rd Qu.:1.0000   3rd Qu.:1.0000   3rd Qu.:1.0000   3rd Qu.:2.000  \n",
       " Max.   :8.0000   Max.   :8.0000   Max.   :9.0000   Max.   :9.000  \n",
       "     NATAID         NATFARE         NATSOC         NATCHLD          NATSCI     \n",
       " Min.   :0.000   Min.   :0.00   Min.   :1.000   Min.   :1.000   Min.   :1.000  \n",
       " 1st Qu.:0.000   1st Qu.:0.00   1st Qu.:1.000   1st Qu.:1.000   1st Qu.:1.000  \n",
       " Median :0.000   Median :0.00   Median :1.000   Median :1.000   Median :2.000  \n",
       " Mean   :1.418   Mean   :1.19   Mean   :1.749   Mean   :2.007   Mean   :2.171  \n",
       " 3rd Qu.:3.000   3rd Qu.:2.00   3rd Qu.:2.000   3rd Qu.:2.000   3rd Qu.:2.000  \n",
       " Max.   :9.000   Max.   :9.00   Max.   :9.000   Max.   :9.000   Max.   :8.000  \n",
       "    NATFAREY          CAPPUN          GUNLAW          COURTS     \n",
       " Min.   :0.0000   Min.   :0.000   Min.   :0.000   Min.   :1.000  \n",
       " 1st Qu.:0.0000   1st Qu.:0.000   1st Qu.:1.000   1st Qu.:2.000  \n",
       " Median :1.0000   Median :1.000   Median :1.000   Median :2.000  \n",
       " Mean   :0.7692   Mean   :1.111   Mean   :2.916   Mean   :2.542  \n",
       " 3rd Qu.:1.0000   3rd Qu.:1.000   3rd Qu.:7.000   3rd Qu.:3.000  \n",
       " Max.   :9.0000   Max.   :9.000   Max.   :9.000   Max.   :9.000  \n",
       "     GRASS         FEJOBAFF        DISCAFFM         DISCAFFW     \n",
       " Min.   :0.00   Min.   :0.000   Min.   :0.0000   Min.   :0.0000  \n",
       " 1st Qu.:0.00   1st Qu.:0.000   1st Qu.:0.0000   1st Qu.:0.0000  \n",
       " Median :1.00   Median :0.000   Median :0.0000   Median :0.0000  \n",
       " Mean   :2.99   Mean   :1.005   Mean   :0.8354   Mean   :0.7336  \n",
       " 3rd Qu.:7.00   3rd Qu.:2.000   3rd Qu.:2.0000   3rd Qu.:2.0000  \n",
       " Max.   :9.00   Max.   :9.000   Max.   :9.0000   Max.   :8.0000  \n",
       "     INCGAP         TAXRICH          RELIG            DENOM           FUND     \n",
       " Min.   :0.000   Min.   :0.000   Min.   : 1.000   Min.   : 0.0   Min.   :1.00  \n",
       " 1st Qu.:0.000   1st Qu.:0.000   1st Qu.: 1.000   1st Qu.: 0.0   1st Qu.:1.00  \n",
       " Median :1.000   Median :1.000   Median : 1.000   Median :14.0   Median :2.00  \n",
       " Mean   :1.231   Mean   :1.612   Mean   : 2.752   Mean   :23.3   Mean   :2.35  \n",
       " 3rd Qu.:2.000   3rd Qu.:3.000   3rd Qu.: 3.000   3rd Qu.:50.0   3rd Qu.:3.00  \n",
       " Max.   :9.000   Max.   :9.000   Max.   :99.000   Max.   :99.0   Max.   :9.00  \n",
       "     ATTEND         RELITEN         POSTLIFE          PRAY      \n",
       " Min.   :0.000   Min.   :0.000   Min.   :0.000   Min.   :1.000  \n",
       " 1st Qu.:1.000   1st Qu.:1.000   1st Qu.:1.000   1st Qu.:1.000  \n",
       " Median :3.000   Median :2.000   Median :1.000   Median :2.000  \n",
       " Mean   :3.615   Mean   :2.587   Mean   :1.655   Mean   :2.852  \n",
       " 3rd Qu.:7.000   3rd Qu.:3.000   3rd Qu.:1.000   3rd Qu.:5.000  \n",
       " Max.   :9.000   Max.   :9.000   Max.   :9.000   Max.   :9.000  \n",
       "     RELEXP          SEXEDUC        PREMARSX        TEENSEX     \n",
       " Min.   :0.0000   Min.   :0.00   Min.   :0.000   Min.   :0.000  \n",
       " 1st Qu.:0.0000   1st Qu.:1.00   1st Qu.:0.000   1st Qu.:0.000  \n",
       " Median :0.0000   Median :1.00   Median :2.000   Median :1.000  \n",
       " Mean   :0.5082   Mean   :3.09   Mean   :2.059   Mean   :1.009  \n",
       " 3rd Qu.:1.0000   3rd Qu.:7.00   3rd Qu.:4.000   3rd Qu.:1.000  \n",
       " Max.   :9.0000   Max.   :9.00   Max.   :9.000   Max.   :9.000  \n",
       "    XMARSEX          PORNLAW          XMOVIE         PARTNERS     \n",
       " Min.   :0.0000   Min.   :0.000   Min.   :0.000   Min.   :-1.000  \n",
       " 1st Qu.:0.0000   1st Qu.:0.000   1st Qu.:0.000   1st Qu.: 0.000  \n",
       " Median :1.0000   Median :1.000   Median :0.000   Median : 1.000  \n",
       " Mean   :0.9313   Mean   :1.165   Mean   :2.482   Mean   : 1.678  \n",
       " 3rd Qu.:1.0000   3rd Qu.:2.000   3rd Qu.:7.000   3rd Qu.: 1.000  \n",
       " Max.   :9.0000   Max.   :8.000   Max.   :9.000   Max.   :99.000  \n",
       "    SEXFREQ          SEXORNT          FECHLD         FEPRESCH    \n",
       " Min.   :-1.000   Min.   :0.000   Min.   :0.000   Min.   :0.000  \n",
       " 1st Qu.: 0.000   1st Qu.:3.000   1st Qu.:0.000   1st Qu.:0.000  \n",
       " Median : 3.000   Median :3.000   Median :1.000   Median :2.000  \n",
       " Mean   : 2.556   Mean   :2.684   Mean   :1.384   Mean   :1.822  \n",
       " 3rd Qu.: 5.000   3rd Qu.:3.000   3rd Qu.:2.000   3rd Qu.:3.000  \n",
       " Max.   : 9.000   Max.   :9.000   Max.   :9.000   Max.   :9.000  \n",
       "     FEFAM      \n",
       " Min.   :0.000  \n",
       " 1st Qu.:0.000  \n",
       " Median :2.000  \n",
       " Mean   :1.844  \n",
       " 3rd Qu.:3.000  \n",
       " Max.   :9.000  "
      ]
     },
     "metadata": {},
     "output_type": "display_data"
    }
   ],
   "source": [
    "summary(gss)"
   ]
  },
  {
   "cell_type": "code",
   "execution_count": 5,
   "metadata": {},
   "outputs": [
    {
     "data": {
      "text/html": [
       "47.961937716263"
      ],
      "text/latex": [
       "47.961937716263"
      ],
      "text/markdown": [
       "47.961937716263"
      ],
      "text/plain": [
       "[1] 47.96194"
      ]
     },
     "metadata": {},
     "output_type": "display_data"
    }
   ],
   "source": [
    "mean(gss$AGE)"
   ]
  },
  {
   "cell_type": "code",
   "execution_count": null,
   "metadata": {},
   "outputs": [],
   "source": []
  }
 ],
 "metadata": {
  "kernelspec": {
   "display_name": "R",
   "language": "R",
   "name": "ir"
  },
  "language_info": {
   "codemirror_mode": "r",
   "file_extension": ".r",
   "mimetype": "text/x-r-source",
   "name": "R",
   "pygments_lexer": "r",
   "version": "3.5.0"
  }
 },
 "nbformat": 4,
 "nbformat_minor": 2
}
