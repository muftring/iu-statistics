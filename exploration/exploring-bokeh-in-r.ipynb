{
 "cells": [
  {
   "cell_type": "markdown",
   "metadata": {},
   "source": [
    "# Exploring Boken in R\n",
    "Reference: [rbokeh](http://hafen.github.io/rbokeh/index.html)"
   ]
  },
  {
   "cell_type": "code",
   "execution_count": 1,
   "metadata": {},
   "outputs": [],
   "source": [
    "library(rbokeh)"
   ]
  },
  {
   "cell_type": "code",
   "execution_count": 2,
   "metadata": {},
   "outputs": [
    {
     "name": "stderr",
     "output_type": "stream",
     "text": [
      "Warning message in structure(x, class = unique(c(\"AsIs\", oldClass(x)))):\n",
      "“Calling 'structure(NULL, *)' is deprecated, as NULL cannot have attributes.\n",
      "  Consider 'structure(list(), *)' instead.”Warning message in structure(x, class = unique(c(\"AsIs\", oldClass(x)))):\n",
      "“Calling 'structure(NULL, *)' is deprecated, as NULL cannot have attributes.\n",
      "  Consider 'structure(list(), *)' instead.”Warning message in structure(x, class = unique(c(\"AsIs\", oldClass(x)))):\n",
      "“Calling 'structure(NULL, *)' is deprecated, as NULL cannot have attributes.\n",
      "  Consider 'structure(list(), *)' instead.”Warning message in structure(x, class = unique(c(\"AsIs\", oldClass(x)))):\n",
      "“Calling 'structure(NULL, *)' is deprecated, as NULL cannot have attributes.\n",
      "  Consider 'structure(list(), *)' instead.”Warning message in structure(x, class = unique(c(\"AsIs\", oldClass(x)))):\n",
      "“Calling 'structure(NULL, *)' is deprecated, as NULL cannot have attributes.\n",
      "  Consider 'structure(list(), *)' instead.”Warning message in structure(x, class = unique(c(\"AsIs\", oldClass(x)))):\n",
      "“Calling 'structure(NULL, *)' is deprecated, as NULL cannot have attributes.\n",
      "  Consider 'structure(list(), *)' instead.”Warning message in structure(x, class = unique(c(\"AsIs\", oldClass(x)))):\n",
      "“Calling 'structure(NULL, *)' is deprecated, as NULL cannot have attributes.\n",
      "  Consider 'structure(list(), *)' instead.”Warning message in structure(x, class = unique(c(\"AsIs\", oldClass(x)))):\n",
      "“Calling 'structure(NULL, *)' is deprecated, as NULL cannot have attributes.\n",
      "  Consider 'structure(list(), *)' instead.”Warning message in structure(x, class = unique(c(\"AsIs\", oldClass(x)))):\n",
      "“Calling 'structure(NULL, *)' is deprecated, as NULL cannot have attributes.\n",
      "  Consider 'structure(list(), *)' instead.”Warning message in structure(x, class = unique(c(\"AsIs\", oldClass(x)))):\n",
      "“Calling 'structure(NULL, *)' is deprecated, as NULL cannot have attributes.\n",
      "  Consider 'structure(list(), *)' instead.”Warning message in structure(x, class = unique(c(\"AsIs\", oldClass(x)))):\n",
      "“Calling 'structure(NULL, *)' is deprecated, as NULL cannot have attributes.\n",
      "  Consider 'structure(list(), *)' instead.”Warning message in structure(x, class = unique(c(\"AsIs\", oldClass(x)))):\n",
      "“Calling 'structure(NULL, *)' is deprecated, as NULL cannot have attributes.\n",
      "  Consider 'structure(list(), *)' instead.”ERROR while rich displaying an object: Error in file(file, \"rb\"): invalid 'description' argument\n",
      "\n",
      "Traceback:\n",
      "1. FUN(X[[i]], ...)\n",
      "2. tryCatch(withCallingHandlers({\n",
      " .     rpr <- mime2repr[[mime]](obj)\n",
      " .     if (is.null(rpr)) \n",
      " .         return(NULL)\n",
      " .     prepare_content(is.raw(rpr), rpr)\n",
      " . }, error = error_handler), error = outer_handler)\n",
      "3. tryCatchList(expr, classes, parentenv, handlers)\n",
      "4. tryCatchOne(expr, names, parentenv, handlers[[1L]])\n",
      "5. doTryCatch(return(expr), name, parentenv, handler)\n",
      "6. withCallingHandlers({\n",
      " .     rpr <- mime2repr[[mime]](obj)\n",
      " .     if (is.null(rpr)) \n",
      " .         return(NULL)\n",
      " .     prepare_content(is.raw(rpr), rpr)\n",
      " . }, error = error_handler)\n",
      "7. mime2repr[[mime]](obj)\n",
      "8. repr_html.htmlwidget(obj)\n",
      "9. lapply(obj$dependencies, function(dep) {\n",
      " .     html <- c()\n",
      " .     if (length(dep$script) > 0) {\n",
      " .         f <- file.path(dep$src$file, dep$script)\n",
      " .         html <- c(html, sprintf(\"<script src=\\\"%s\\\"></script>\", \n",
      " .             dataURI(mime = \"application/javascript\", file = f)))\n",
      " .     }\n",
      " .     if (length(dep$stylesheet) > 0) {\n",
      " .         f <- file.path(dep$src$file, dep$stylesheet)\n",
      " .         html <- c(html, sprintf(\"<link href=\\\"%s\\\" rel=\\\"stylesheet\\\" />\", \n",
      " .             dataURI(mime = \"text/css;charset-utf-8\", file = f)))\n",
      " .     }\n",
      " .     paste(html, collapse = \"\\n\")\n",
      " . })\n",
      "10. FUN(X[[i]], ...)\n",
      "11. sprintf(\"<link href=\\\"%s\\\" rel=\\\"stylesheet\\\" />\", dataURI(mime = \"text/css;charset-utf-8\", \n",
      "  .     file = f))\n",
      "12. dataURI(mime = \"text/css;charset-utf-8\", file = f)\n",
      "13. file(file, \"rb\")\n"
     ]
    },
    {
     "data": {
      "text/plain": [
       "HTML widgets cannot be represented in plain text (need html)"
      ]
     },
     "metadata": {},
     "output_type": "display_data"
    }
   ],
   "source": [
    "p <- figure() %>%\n",
    "  ly_points(Sepal.Length, Sepal.Width, data = iris,\n",
    "    color = Species, glyph = Species,\n",
    "    hover = list(Sepal.Length, Sepal.Width))\n",
    "p"
   ]
  },
  {
   "cell_type": "code",
   "execution_count": null,
   "metadata": {},
   "outputs": [],
   "source": []
  }
 ],
 "metadata": {
  "kernelspec": {
   "display_name": "R",
   "language": "R",
   "name": "ir"
  },
  "language_info": {
   "codemirror_mode": "r",
   "file_extension": ".r",
   "mimetype": "text/x-r-source",
   "name": "R",
   "pygments_lexer": "r",
   "version": "3.5.0"
  }
 },
 "nbformat": 4,
 "nbformat_minor": 2
}
