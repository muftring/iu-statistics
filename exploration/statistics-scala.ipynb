{
 "cells": [
  {
   "cell_type": "markdown",
   "metadata": {},
   "source": [
    "# Statistics in Scala"
   ]
  },
  {
   "cell_type": "markdown",
   "metadata": {},
   "source": [
    "**Objectives**:\n",
    "- learn statistical functions, and how they are calculated\n",
    "- implement my own functions (trying to use as few built-in functions as possible)\n",
    "- perhaps come back and optimize them\n",
    "- perhaps write a generic mechanism which permits defining a function based on a formula or expression"
   ]
  },
  {
   "cell_type": "code",
   "execution_count": 310,
   "metadata": {},
   "outputs": [
    {
     "data": {
      "text/plain": [
       "[1.0, 2.0, 3.0]"
      ]
     },
     "execution_count": 310,
     "metadata": {},
     "output_type": "execute_result"
    }
   ],
   "source": [
    "val data0 = Array(0.0, 1.0, 2.0, 2.0, 3.0, 3.0, 3.0, 3.0, 3.0, 4.0, 4.0, 5.0, 6.0)\n",
    "val data1 = Array(0.0, 1.0, 2.0, 3.0, 4.0, 5.0, 6.0, 7.0, 8.0, 9.0)\n",
    "val data2 = Array(1.0, 2.0, 3.0)"
   ]
  },
  {
   "cell_type": "code",
   "execution_count": 322,
   "metadata": {},
   "outputs": [
    {
     "data": {
      "text/plain": [
       "defined object DataSet\n",
       "defined class DataSet\n"
      ]
     },
     "execution_count": 322,
     "metadata": {},
     "output_type": "execute_result"
    }
   ],
   "source": [
    "object DataSet {\n",
    "    def apply(data: Array[Double]) = new Data(data)\n",
    "}\n",
    "\n",
    "class DataSet(data: Array[Double]) {\n",
    "    // \"Delta Degrees of Freedom\": the divisor used in the variance calculation is\n",
    "    // ``N - ddof``, where ``N`` represents the number of elements. (from Python's Numpy docs)\n",
    "    private val ddof = 1.0\n",
    "    \n",
    "    private lazy val pivot = Math.abs(data.length%2-1)\n",
    "\n",
    "    lazy val length = data.foldLeft(0){(a,b) => a+1}\n",
    "    lazy val sum = data.reduceLeft(_ + _)\n",
    "    lazy val min = data.sorted.head\n",
    "    lazy val max = data.sorted.takeRight(1).head\n",
    "    \n",
    "    // Describing The Center of The Data\n",
    "    lazy val mean = sum / length\n",
    "    lazy val median = data.sorted.takeRight((length+1+pivot)/2).take(1+pivot).sum/(1+pivot)\n",
    "    lazy val mode = data.groupBy(identity).mapValues(_.size).toSeq.sortBy(_._2).reverse.head._1\n",
    "    \n",
    "    // Describing The Variability of The Data\n",
    "    lazy val range = max - min\n",
    "    lazy val stddev = Math.sqrt(variance)\n",
    "    lazy val variance = data.foldLeft(0.0){(s,yi) => s+Math.pow(yi-mean,2.0)}/(length-ddof)\n",
    "    \n",
    "    \n",
    "    // convenience functions\n",
    "    def average = mean\n",
    "    \n",
    "    def summary = for ((tag, value) <- List((\"length\",length),\n",
    "                                            (\"sum\",sum),\n",
    "                                            (\"min\",min),\n",
    "                                            (\"max\",max),\n",
    "                                            (\"mean\",mean),\n",
    "                                            (\"median\",median),\n",
    "                                            (\"mode\",mode),\n",
    "                                            (\"range\",range),\n",
    "                                            (\"variance\",variance),\n",
    "                                            (\"stddev\",stddev)))\n",
    "                    println(s\"${tag}: ${value}\")\n",
    "}"
   ]
  },
  {
   "cell_type": "code",
   "execution_count": 323,
   "metadata": {},
   "outputs": [
    {
     "name": "stdout",
     "output_type": "stream",
     "text": [
      "length: 13\n",
      "sum: 39.0\n",
      "min: 0.0\n",
      "max: 6.0\n",
      "mean: 3.0\n",
      "median: 3.0\n",
      "mode: 3.0\n",
      "range: 6.0\n",
      "variance: 2.5\n",
      "stddev: 1.5811388300841898\n"
     ]
    },
    {
     "data": {
      "text/plain": [
       "null"
      ]
     },
     "execution_count": 323,
     "metadata": {},
     "output_type": "execute_result"
    }
   ],
   "source": [
    "DataSet(data0).summary"
   ]
  },
  {
   "cell_type": "code",
   "execution_count": 324,
   "metadata": {},
   "outputs": [
    {
     "name": "stdout",
     "output_type": "stream",
     "text": [
      "length: 10\n",
      "sum: 45.0\n",
      "min: 0.0\n",
      "max: 9.0\n",
      "mean: 4.5\n",
      "median: 4.5\n",
      "mode: 4.0\n",
      "range: 9.0\n",
      "variance: 9.166666666666666\n",
      "stddev: 3.0276503540974917\n"
     ]
    },
    {
     "data": {
      "text/plain": [
       "null"
      ]
     },
     "execution_count": 324,
     "metadata": {},
     "output_type": "execute_result"
    }
   ],
   "source": [
    "DataSet(data1).summary"
   ]
  },
  {
   "cell_type": "code",
   "execution_count": 325,
   "metadata": {},
   "outputs": [
    {
     "name": "stdout",
     "output_type": "stream",
     "text": [
      "length: 3\n",
      "sum: 6.0\n",
      "min: 1.0\n",
      "max: 3.0\n",
      "mean: 2.0\n",
      "median: 2.0\n",
      "mode: 3.0\n",
      "range: 2.0\n",
      "variance: 1.0\n",
      "stddev: 1.0\n"
     ]
    },
    {
     "data": {
      "text/plain": [
       "null"
      ]
     },
     "execution_count": 325,
     "metadata": {},
     "output_type": "execute_result"
    }
   ],
   "source": [
    "DataSet(data2).summary"
   ]
  },
  {
   "cell_type": "code",
   "execution_count": null,
   "metadata": {},
   "outputs": [],
   "source": []
  }
 ],
 "metadata": {
  "kernelspec": {
   "display_name": "Scala",
   "language": "scala",
   "name": "scala"
  },
  "language_info": {
   "codemirror_mode": "text/x-scala",
   "file_extension": ".scala",
   "mimetype": "",
   "name": "Scala",
   "nbconverter_exporter": "",
   "version": "2.11.11"
  }
 },
 "nbformat": 4,
 "nbformat_minor": 2
}
