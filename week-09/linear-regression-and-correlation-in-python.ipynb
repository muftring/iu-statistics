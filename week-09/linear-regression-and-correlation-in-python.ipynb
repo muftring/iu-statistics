{
 "cells": [
  {
   "cell_type": "markdown",
   "metadata": {},
   "source": [
    "# Linear Regression and Correlation (in Python)\n",
    "What is the association between two quantitative variables?   \n",
    "What is the strength of association (correlation) between the two variables?   "
   ]
  },
  {
   "cell_type": "markdown",
   "metadata": {},
   "source": [
    "**explanatory variable**: independent"
   ]
  },
  {
   "cell_type": "markdown",
   "metadata": {},
   "source": [
    "**response variable**: dependent"
   ]
  },
  {
   "cell_type": "markdown",
   "metadata": {},
   "source": [
    "Can we use a regression equation to predict the value of the response variable from the explanatory variable?"
   ]
  },
  {
   "cell_type": "markdown",
   "metadata": {},
   "source": [
    "## Linear Relationships"
   ]
  },
  {
   "cell_type": "markdown",
   "metadata": {},
   "source": [
    "- let $y$ denote the response variable\n",
    "- let $x$ denote the explanatory variable\n",
    "\n",
    "We want to underatand the relationship between $y$ and $x$, and explain it using a mathematical equation. In this sense, $y$ being the response variable, we can say that $y$ depends on $x$, or $x$ dictates the value of $y$."
   ]
  },
  {
   "cell_type": "markdown",
   "metadata": {},
   "source": [
    "The equation for a straight line:\n",
    "\n",
    "$y = \\alpha + \\beta x$\n",
    "\n",
    "The **slope** is how \"steep\" the line is and is denoted by $\\beta$.  \n",
    "The **intercept** is where the line crosses the y-axis (when $x = 0$) and is denoted by $\\alpha$."
   ]
  },
  {
   "cell_type": "markdown",
   "metadata": {},
   "source": [
    "solving for $\\alpha$   \n",
    "and $\\beta$: \"rise over run\""
   ]
  },
  {
   "cell_type": "markdown",
   "metadata": {},
   "source": [
    "**Positive Relationship**: $\\beta > 0$   \n",
    "**Negative Relationahip**: $\\beta < 0$   \n",
    "**Independence**: $\\beta = 0$"
   ]
  },
  {
   "cell_type": "markdown",
   "metadata": {},
   "source": [
    "### Example\n",
    "\n",
    "We are interested in the relationship between a response variable (violent crimes at the state level) and some explanatory (independent) variables:\n",
    "- poverty rate\n",
    "- perentage of the population living in urban areas\n",
    "- percentage of residents who are high school graduates"
   ]
  },
  {
   "cell_type": "markdown",
   "metadata": {},
   "source": [
    "What is $y$? the dependent variable: *violent crimes at the state level*\n",
    "\n",
    "What is $x$? the explanatory variables, any of: poverty rate, urban population percentage, high school graduate percentage.\n",
    "\n",
    "The key is that we are explaining differences in violent crimes at the state level (the response, or dependent variable) using variation in the different independent variables.\n",
    "\n",
    "There is an \"art\" in selecting the response variable in studies. It can often be argued either way when choosing. Be careful of *correlations* vs. *causation*, and whether a relationship between variables really explains or provides a causal relationahip."
   ]
  },
  {
   "cell_type": "markdown",
   "metadata": {},
   "source": [
    "Working the example of *violent crimes at the state level*, we have:\n",
    "- poverty rate: $y = 210 + 25x$\n",
    "- perentage of the population living in urban areas: $y = 26 + 8x$\n",
    "- percentage of residents who are high school graduates: $y = 1756 - 16x$"
   ]
  },
  {
   "cell_type": "markdown",
   "metadata": {},
   "source": [
    "### How do we interpret the equations?\n",
    "- poverty rate: $y = 210 + 25x$\n",
    "  - The y-intercept is 210, when $x = 0$, meaning there is no poverty, the violent crime rate is equal to 210 at the state level\n",
    "  - There is a positive relationahip, a positive slope, relating $x$ (independent variable: poverty) with $y$ (dependent variable: violent crime rate at the state level)\n",
    "  - this means that a 1-unit increase in poverty rate (explanatory variable) is associated with a 25-unit increase in violent crime rate at the state level (response variable)\n",
    "\n",
    "- perentage of the population living in urban areas: $y = 26 + 8x$\n",
    "  - a positive relationship\n",
    "  - a 1-unit increase in population living in urban areas is associated with an 8-unit increase in violent crime rate at the state level\n",
    "\n",
    "- percentage of residents who are high school graduates: $y = 1756 - 16x$\n",
    "  - a negative relationship\n",
    "  - the violent crime rates at a high school graduation rate of zero is 1756\n",
    "  - there is a decreasing relationship\n",
    "  - a 1-unit decrease in the percentage of residents who are high school graduates is associated (on average) with a 16-unit increase in violent crime rate at the state level"
   ]
  },
  {
   "cell_type": "markdown",
   "metadata": {},
   "source": [
    "What do you do if there is no data point that shows a zero value for a variable in the dataset? How do you obtain the y-intercept if there is no data showing the $y$ value when $x$ is zero? As we are using a line to relate the two variales, the line can be extended to find the y-intercept."
   ]
  },
  {
   "cell_type": "markdown",
   "metadata": {},
   "source": [
    "### What do the questions imply about causality?\n",
    "\n",
    "These equations do not imply anything about causality. We cannot state, for example, that if we increase percentage of residents who are high school graduates we will decrease the violent crime rate at the state level. These are not relationships that are causal in any way. The only thing we can state is, given the data this is the type of relationship that we observe overall. But we cannot make any claims of one variable causing an effect on the other."
   ]
  },
  {
   "cell_type": "markdown",
   "metadata": {},
   "source": [
    "## Least Squares Prediction Equation"
   ]
  },
  {
   "cell_type": "markdown",
   "metadata": {},
   "source": [
    "Extension to linear regression, finding a line that best describes the relationship between two variables."
   ]
  },
  {
   "cell_type": "markdown",
   "metadata": {},
   "source": [
    "**Step 1: generate a scatterplot**\n",
    "- look at how the data relates\n",
    "- does it look like we can draw a straight line through the data points?\n",
    "- are there any non-linear curves? it is inappropriate to use a Straight Line Model when there is a non-linear relationship\n",
    "- a **box-and-whisker plot** along the x-axis can also help visually perceive the density or distribution\n",
    "- there may be \"distant\" data points, or outliers, which appear to be well outside the bounds"
   ]
  },
  {
   "cell_type": "markdown",
   "metadata": {},
   "source": [
    "### Prediction Equation\n",
    "The prediction equation for a line:\n",
    "\n",
    "$\\hat{y} = a+bx$\n",
    "\n",
    "Y-hat denotes the fact that we use sample data to estimate the slope and intercept for the equation. Using this equation we can obtain a predicted value of the response variable for any given of $x$ as long as we know the slope and intercept."
   ]
  },
  {
   "cell_type": "markdown",
   "metadata": {},
   "source": [
    "### Prediction Equation for the Best Striaght Line\n",
    "\n",
    "To obtain the y-intercept $a$:\n",
    "\n",
    "$a = \\bar{y} + b \\bar{x}$\n",
    "\n",
    "where $\\bar{y}$ denotes the average value of the response variable (dependent variable)   \n",
    "and $\\bar{x}$ is the average value of $x$ across all data points in your sample\n",
    "\n",
    "to obtain the slope $b$:\n",
    "\n",
    "$b = \\frac{\\sum (x - \\bar{x})(y - \\bar{y})}{\\sum (x - \\bar{x})^{2}}$\n",
    "\n",
    "In the numerator we are summing the product of the difference of all $x$ values and the average $x$ value $\\bar{x}$, and the difference of all $y$ values and the average $y$ value $\\bar{y}$.\n",
    "\n",
    "The denominator is obtained by taking the sum of the squared deviation of each observation of $x$ from the overall mean $\\bar{x}$.\n",
    "\n",
    "Executing this for every data point, we can obtain the appropriate y-intercept and slope for the dataset."
   ]
  },
  {
   "cell_type": "markdown",
   "metadata": {},
   "source": [
    "### Effects of Outliers on the Prediction Equation\n",
    "Outliers exist in almost every dataset.\n",
    "\n",
    "It is a judgement call whether to include or exclude outliers in the dataset when creating a Straight Line Model. It could be an objective decision based on some firm criteria, or it could be a subjective decision based on less quantifiable criteria.\n",
    "\n",
    "Recall that the mean value is sensitive to outliers, and so removing outliers from a dataset will have an impact to the prediction equations (above)."
   ]
  },
  {
   "cell_type": "markdown",
   "metadata": {},
   "source": [
    "### Prediction Errors are called Residuals\n",
    "\n",
    "How good is our prediction equation?\n",
    "\n",
    "For any value of $x$, how far off would we tend to be in predicting the $y$ value compared to actual $y$ values in the dataset?\n",
    "\n",
    "The difference between an observed value and the predicted value of that response variable, $y - \\hat{y}$, is called the residual (or the error term). It can be thought of what's left over, that is unexplained variation between a data point and what is predicted based on the model (the $y$ prediction equation)."
   ]
  },
  {
   "cell_type": "markdown",
   "metadata": {},
   "source": [
    "### Calculating Residuals\n",
    "Compare actual $y$ values with $y$ values produced by prediction equation.\n",
    "\n",
    "Example,\n",
    "- take an actual $x$ value from the dataset (e.g., Poverty Rate)\n",
    "- plug the actual $x$ value into the prediction equation: $\\hat{y} = a + b\\hat{x}$\n",
    "- to get the predicted $\\hat{y}$ value (predicted response variable, e.g. Murder Rate) associated with the $x$ value (explanatory variable, e.g. Poverty Rate) substitute the value of $x$ in the equation\n",
    "- the value will differ some because the prediction equation will follow the line, and the actual values will be slightly diferent from the predicted values\n",
    "\n",
    "Larger residuals will be observed when outliers are included in the prediction equation. "
   ]
  },
  {
   "cell_type": "markdown",
   "metadata": {},
   "source": [
    "### Prediction Equation has Least Squares Property\n",
    "\n",
    "The equations given for $a$ and $b$ are the values that provide the prediction equation $\\hat{y} = a + bx$ for which the residual sum of squares, $SSE = \\sum(y-\\hat{y})^{2}$, is a minimum.\n",
    "\n",
    "Note: SSE = sum of squared errors\n",
    "\n",
    "The residual sum of squares describes the variation of the data around the prediction line.\n",
    "\n",
    "The least squares line prediction has the following properties:\n",
    "- the sum and the mean of the residuals equals 0\n",
    "- the line passes through the point $(\\bar{x}, \\bar{y})$"
   ]
  },
  {
   "cell_type": "markdown",
   "metadata": {},
   "source": [
    "## The Linear Regression Model"
   ]
  },
  {
   "cell_type": "markdown",
   "metadata": {},
   "source": [
    "When we have a prediction equation for a line, $y = \\alpha + \\beta x$, each value of $x$ corresponds to a single value of $y$. \n",
    "\n",
    "In real life, however, not all observations with the same $x$-value have the same $y$-value. Rather, there is a conditional probability distribution over the $y$ values for a fixed $x$ value which allows for variability in $y$ for each value of $x$. \n",
    "\n",
    "For a given value of $x$, $\\alpha + \\beta x$ represents the mean of the conditional probability distribution of $y$ for subjets having that value of $x$."
   ]
  },
  {
   "cell_type": "markdown",
   "metadata": {},
   "source": [
    "### Regression Function\n",
    "\n",
    "$E(y) = \\alpha + \\beta x$\n",
    "\n",
    "This shows the relationship between $x$ and the mean of the conditional distribution of $y$. It is called a linear regression function because it uses a straight line to relate the mean of $y$ to the values of $x$.\n",
    "\n",
    "A **regression function** is a mathematical function that describes how the mean of a response variable changes according to the value of an explanatory variable.\n",
    "\n",
    "**Regression coefficients**: the intercept and the slope"
   ]
  },
  {
   "cell_type": "markdown",
   "metadata": {},
   "source": [
    "### Describing Variation about the Regression Line\n",
    "\n",
    "We can describe the variabbility of the $y$-values for all subjects having the same $x$-value. This is the *conditional standard deviation*, or $\\sigma$."
   ]
  },
  {
   "cell_type": "markdown",
   "metadata": {},
   "source": [
    "### Mean Square Error: Estimating Conditional Variation\n",
    "\n",
    "Linear regeression assumes that the standard deviation of the conditional distribution of $y$ is:\n",
    "- identical at the variaous values of $x$\n",
    "- normally distributed around $x$\n",
    "\n",
    "$s = \\sqrt{\\frac{SSE}{n-2}} = \\sqrt{\\frac{\\sum(y - \\hat{y})^{2}}{n-2}}$\n",
    "\n",
    "At any fixed value of $x$, our model predicts that $y$ varies around a mean $E(y)$ with a standard deviation $s$.\n",
    "\n",
    "There are two degrees of freedom, the $n-2$ term, because we have two unknowns: $\\alpha$ and $\\beta$."
   ]
  },
  {
   "cell_type": "markdown",
   "metadata": {},
   "source": [
    "### Marginal and Conditional Distributions\n",
    "- The *marginal distribution* shows the overall variability in $y$ values.\n",
    "- The *conditional distribution* shows how $y$ varies at fixed value of $x$."
   ]
  },
  {
   "cell_type": "markdown",
   "metadata": {},
   "source": [
    "## Measuring Linear Association: The Correlation"
   ]
  },
  {
   "cell_type": "code",
   "execution_count": null,
   "metadata": {},
   "outputs": [],
   "source": []
  }
 ],
 "metadata": {
  "kernelspec": {
   "display_name": "Python 3",
   "language": "python",
   "name": "python3"
  },
  "language_info": {
   "codemirror_mode": {
    "name": "ipython",
    "version": 3
   },
   "file_extension": ".py",
   "mimetype": "text/x-python",
   "name": "python",
   "nbconvert_exporter": "python",
   "pygments_lexer": "ipython3",
   "version": "3.6.5"
  }
 },
 "nbformat": 4,
 "nbformat_minor": 2
}
