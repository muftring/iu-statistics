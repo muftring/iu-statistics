{
 "cells": [
  {
   "cell_type": "markdown",
   "metadata": {},
   "source": [
    "# Linear Regression and Correlation (in Python)\n",
    "What is the association between two quantitative variables?   \n",
    "What is the strength of association (correlation) between the two variables?   "
   ]
  },
  {
   "cell_type": "markdown",
   "metadata": {},
   "source": [
    "**explanatory variable**: independent"
   ]
  },
  {
   "cell_type": "markdown",
   "metadata": {},
   "source": [
    "**response variable**: dependent"
   ]
  },
  {
   "cell_type": "markdown",
   "metadata": {},
   "source": [
    "Can we use a regression equation to predict the value of the response variable from the explanatory variable?"
   ]
  },
  {
   "cell_type": "markdown",
   "metadata": {},
   "source": [
    "## Linear Relationships"
   ]
  },
  {
   "cell_type": "markdown",
   "metadata": {},
   "source": [
    "- let $y$ denote the response variable\n",
    "- let $x$ denote the explanatory variable\n",
    "\n",
    "We want to underatand the relationship between $y$ and $x$, and explain it using a mathematical equation. In this sense, $y$ being the response variable, we can say that $y$ depends on $x$, or $x$ dictates the value of $y$."
   ]
  },
  {
   "cell_type": "markdown",
   "metadata": {},
   "source": [
    "The equation for a straight line:\n",
    "\n",
    "$y = \\alpha + \\beta x$\n",
    "\n",
    "The **slope** is how \"steep\" the line is and is denoted by $\\beta$.  \n",
    "The **intercept** is where the line crosses the y-axis (when $x = 0$) and is denoted by $\\alpha$."
   ]
  },
  {
   "cell_type": "markdown",
   "metadata": {},
   "source": [
    "solving for $\\alpha$   \n",
    "and $\\beta$: \"rise over run\""
   ]
  },
  {
   "cell_type": "markdown",
   "metadata": {},
   "source": [
    "**Positive Relationship**: $\\beta > 0$   \n",
    "**Negative Relationahip**: $\\beta < 0$   \n",
    "**Independence**: $\\beta = 0$"
   ]
  },
  {
   "cell_type": "markdown",
   "metadata": {},
   "source": [
    "### Example\n",
    "\n",
    "We are interested in the relationship between a response variable (violent crimes at the state level) and some explanatory (independent) variables:\n",
    "- poverty rate\n",
    "- perentage of the population living in urban areas\n",
    "- percentage of residents who are high school graduates"
   ]
  },
  {
   "cell_type": "markdown",
   "metadata": {},
   "source": [
    "What is $y$? the dependent variable: *violent crimes at the state level*\n",
    "\n",
    "What is $x$? the explanatory variables, any of: poverty rate, urban population percentage, high school graduate percentage.\n",
    "\n",
    "The key is that we are explaining differences in violent crimes at the state level (the response, or dependent variable) using variation in the different independent variables.\n",
    "\n",
    "There is an \"art\" in selecting the response variable in studies. It can often be argued either way when choosing. Be careful of *correlations* vs. *causation*, and whether a relationship between variables really explains or provides a causal relationahip."
   ]
  },
  {
   "cell_type": "markdown",
   "metadata": {},
   "source": [
    "Working the example of *violent crimes at the state level*, we have:\n",
    "- poverty rate: $y = 210 + 25x$\n",
    "- perentage of the population living in urban areas: $y = 26 + 8x$\n",
    "- percentage of residents who are high school graduates: $y = 1756 - 16x$"
   ]
  },
  {
   "cell_type": "markdown",
   "metadata": {},
   "source": [
    "**How do we interpret the equations?**\n",
    "- poverty rate: $y = 210 + 25x$\n",
    "  - The y-intercept is 210, when $x = 0$, meaning there is no poverty, the violent crime rate is equal to 210 at the state level\n",
    "  - There is a positive relationahip, a positive slope, relating $x$ (independent variable: poverty) with $y$ (dependent variable: violent crime rate at the state level)\n",
    "  - this means that a 1-unit increase in poverty rate (explanatory variable) is associated with a 25-unit increase in violent crime rate at the state level (response variable)\n",
    "\n",
    "- perentage of the population living in urban areas: $y = 26 + 8x$\n",
    "  - a positive relationship\n",
    "  - a 1-unit increase in population living in urban areas is associated with an 8-unit increase in violent crime rate at the state level\n",
    "\n",
    "- percentage of residents who are high school graduates: $y = 1756 - 16x$\n",
    "  - a negative relationship\n",
    "  - the violent crime rates at a high school graduation rate of zero is 1756\n",
    "  - there is a decreasing relationship\n",
    "  - a 1-unit decrease in the percentage of residents who are high school graduates is associated (on average) with a 16-unit increase in violent crime rate at the state level"
   ]
  },
  {
   "cell_type": "markdown",
   "metadata": {},
   "source": [
    "What do you do if there is no data point that shows a zero value for a variable in the dataset? How do you obtain the y-intercept if there is no data showing the $y$ value when $x$ is zero? As we are using a line to relate the two variales, the line can be extended to find the y-intercept."
   ]
  },
  {
   "cell_type": "markdown",
   "metadata": {},
   "source": [
    "**What do the questions imply about causality?**\n",
    "\n",
    "These equations do not imply anything about causality. We cannot state, for example, that if we increase percentage of residents who are high school graduates we will decrease the violent crime rate at the state level. These are not relationships that are causal in any way. The only thing we can state is, given the data this is the type of relationship that we observe overall. But we cannot make any claims of one variable causing an effect on the other."
   ]
  },
  {
   "cell_type": "markdown",
   "metadata": {},
   "source": []
  },
  {
   "cell_type": "markdown",
   "metadata": {},
   "source": []
  }
 ],
 "metadata": {
  "kernelspec": {
   "display_name": "Python 3",
   "language": "python",
   "name": "python3"
  },
  "language_info": {
   "codemirror_mode": {
    "name": "ipython",
    "version": 3
   },
   "file_extension": ".py",
   "mimetype": "text/x-python",
   "name": "python",
   "nbconvert_exporter": "python",
   "pygments_lexer": "ipython3",
   "version": "3.6.5"
  }
 },
 "nbformat": 4,
 "nbformat_minor": 2
}
