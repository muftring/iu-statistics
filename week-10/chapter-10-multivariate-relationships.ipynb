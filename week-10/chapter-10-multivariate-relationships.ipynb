{
 "cells": [
  {
   "cell_type": "markdown",
   "metadata": {},
   "source": [
    "# Multivariate Relationships"
   ]
  },
  {
   "cell_type": "markdown",
   "metadata": {},
   "source": [
    "## Associations and Causality\n",
    "\n",
    "Causal relationships have an asymmetry: one variable has an influence on the other, but not vice versa.\n",
    "\n",
    "$$X \\rightarrow Y$$\n",
    "\n",
    "A relationship must satisfy three criteria in order to be considered a causal one:\n",
    "1. an association between the variables\n",
    "2. an appropriate time order\n",
    "   - the cause must temporally precede the effect\n",
    "   - there should be a time order between the variables under consideration\n",
    "3. the elimination of alternative explanations\n",
    "   - there cannot be any other explanations for why we might be observing the relationship\n",
    "   - we can never prove causality because an alternative explanation may simply be unobserved\n",
    "   \n",
    "> the most demanding criteria is *the elimination of alternative explanations*"
   ]
  },
  {
   "cell_type": "markdown",
   "metadata": {},
   "source": [
    "## Controlling for Other Variables\n",
    "\n",
    "A fundamental component of evaluating whether X causes Y involves ruling out alternative explanations.\n",
    "\n",
    "We do this by studying whether the relationship between X and Y persists after removing the influence of other variables on this association. In other words, we **control** for the variables that offer an alternative explanation.\n",
    "\n",
    "**Experimental control**: the ability to keep a variable at a fixed value, e.g. temperature or atmospheric pressure in a chemistry or physics experiment\n",
    "\n",
    "**Statistical control**: grouping sample results based on the value (or value range) of respondents, e.g. education level (less than high school degree, high school degree, some college, completed 2-year or 4-year degree, etc.) or income.\n",
    "\n",
    "Be wary of **lurking variables**: a variable that is not measured in a study but influences the association of interest."
   ]
  },
  {
   "cell_type": "markdown",
   "metadata": {},
   "source": [
    "## Types of Multivariate Relationships\n",
    "\n",
    "### Spurious Relationships\n",
    "An association between $X_{1}$ and $Y$ is said to be a **spurious relationship** if both are dependent on a third variable $X_{2}$, and their association disappears when $X_{2}$ is controlled.\n",
    "\n",
    "### Chain Relationships\n",
    "In **chain relationships**, the main independent variable of interest $X_{1}$ is only a distal cause of the outcome $Y$ with $X_{2}$ being an intervening variable, which is itself caused by $X_{1}$. $X_{2}$ is then hypothesized to cause $Y$.\n",
    "\n",
    "### Multiple Causes\n",
    "This occurs if a certain outcome $Y$ has multiple causes $X_{1}$ abd $X_{2}$ simultaneously. These causes may be independent of each other. \n",
    "\n",
    "For example, if $X_{1}$ = *gender*, and $X_{2}$ = *race*, both have effects on delinquency such that delinquency rates vary both according to gender and race, then $X_{1}$ and $X_{2}$ are likely to be independent causes.\n",
    "\n",
    "### Suppressor Variables\n",
    "Occasionaly two variables show no association until a third variable is controlled.\n",
    "\n",
    "### Statistical Interaction\n",
    "**Statistical interaction** exists between $X_{1}$ and $X_{2}$ in their effects on $Y$ when the true effect of one predictor on $Y$ chnages as the value of the other predictor changes.\n",
    "\n",
    "To asses whether a sample shows evidence of interaction, we can compare the effect of $X_{1}$ on $Y$ at different levels of $X_{2}$. When the sample effect is different at each level of $X_{2}$, there is evidence of interaction of $X_{1}$ and $X_{2}$ in their effect on $Y$."
   ]
  }
 ],
 "metadata": {
  "kernelspec": {
   "display_name": "Python 3",
   "language": "python",
   "name": "python3"
  },
  "language_info": {
   "codemirror_mode": {
    "name": "ipython",
    "version": 3
   },
   "file_extension": ".py",
   "mimetype": "text/x-python",
   "name": "python",
   "nbconvert_exporter": "python",
   "pygments_lexer": "ipython3",
   "version": "3.6.5"
  }
 },
 "nbformat": 4,
 "nbformat_minor": 2
}
