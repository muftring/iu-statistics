{
 "cells": [
  {
   "cell_type": "markdown",
   "metadata": {},
   "source": [
    "# Multiple Regression and Correlation"
   ]
  },
  {
   "cell_type": "markdown",
   "metadata": {},
   "source": [
    "## The Multiple Regression Model\n",
    "\n",
    "Until now we have modeled the relationship between two variables (the response variable and the explanatory variable).\n",
    "\n",
    "Now we consider the situation in which we have more than one explanatory variable to explain the variation in the response variable. \n",
    "\n",
    "Suppose there are two explanatory variables $x_{1}$ and $x_{2}$. The bivariate regression function can be generalized to the multiple regression funmction:\n",
    "\n",
    "$$E(y) = \\alpha + \\beta_{1}x_{1} + \\beta_{2}x_{2}$$\n",
    "\n",
    "This equation specifies the population mean of $y$ for all subjects with certain values of $x_{1}$ and $x_{2}$. When there are additional $x$ varaibles, each has a slope coefficient $\\beta_{x}$ term."
   ]
  },
  {
   "cell_type": "markdown",
   "metadata": {},
   "source": []
  }
 ],
 "metadata": {
  "kernelspec": {
   "display_name": "Python 3",
   "language": "python",
   "name": "python3"
  },
  "language_info": {
   "codemirror_mode": {
    "name": "ipython",
    "version": 3
   },
   "file_extension": ".py",
   "mimetype": "text/x-python",
   "name": "python",
   "nbconvert_exporter": "python",
   "pygments_lexer": "ipython3",
   "version": "3.6.5"
  }
 },
 "nbformat": 4,
 "nbformat_minor": 2
}
